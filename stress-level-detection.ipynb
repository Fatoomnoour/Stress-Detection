{
 "cells": [
  {
   "cell_type": "code",
   "execution_count": 6,
   "id": "61101a57",
   "metadata": {},
   "outputs": [],
   "source": [
    "#pip install  imbalanced-learn pandas numpy scikit-learn imblearn joblib"
   ]
  },
  {
   "cell_type": "code",
   "execution_count": 7,
   "id": "9acb086e",
   "metadata": {},
   "outputs": [],
   "source": [
    "#pip install  plotly seaborn matplotlib"
   ]
  },
  {
   "cell_type": "code",
   "execution_count": 8,
   "id": "b09ec689",
   "metadata": {
    "execution": {
     "iopub.execute_input": "2025-03-25T14:43:13.683264Z",
     "iopub.status.busy": "2025-03-25T14:43:13.682760Z",
     "iopub.status.idle": "2025-03-25T14:43:17.223961Z",
     "shell.execute_reply": "2025-03-25T14:43:17.223083Z"
    },
    "papermill": {
     "duration": 3.55133,
     "end_time": "2025-03-25T14:43:17.225862",
     "exception": false,
     "start_time": "2025-03-25T14:43:13.674532",
     "status": "completed"
    },
    "tags": []
   },
   "outputs": [],
   "source": [
    "#import library\n",
    "import pandas as pd\n",
    "import numpy as np\n",
    "np.random.seed(42)\n",
    "import random\n",
    "random.seed(42)\n",
    "import plotly.express as px\n",
    "import seaborn as sns\n",
    "import matplotlib.pyplot as plt\n",
    "from sklearn.model_selection import train_test_split, GridSearchCV ,StratifiedKFold\n",
    "from sklearn.preprocessing import StandardScaler, OneHotEncoder ,OrdinalEncoder\n",
    "from sklearn.compose import ColumnTransformer\n",
    "from sklearn.metrics import (accuracy_score, classification_report, confusion_matrix, ConfusionMatrixDisplay)\n",
    "from sklearn.ensemble import RandomForestClassifier\n",
    "from imblearn.over_sampling import SMOTE\n",
    "import joblib\n",
    "import warnings\n",
    "warnings.filterwarnings(\"ignore\")"
   ]
  },
  {
   "cell_type": "code",
   "execution_count": 9,
   "id": "4088bb95",
   "metadata": {
    "execution": {
     "iopub.execute_input": "2025-03-25T14:43:17.242942Z",
     "iopub.status.busy": "2025-03-25T14:43:17.242381Z",
     "iopub.status.idle": "2025-03-25T14:43:17.288237Z",
     "shell.execute_reply": "2025-03-25T14:43:17.287125Z"
    },
    "papermill": {
     "duration": 0.055935,
     "end_time": "2025-03-25T14:43:17.289917",
     "exception": false,
     "start_time": "2025-03-25T14:43:17.233982",
     "status": "completed"
    },
    "tags": []
   },
   "outputs": [
    {
     "data": {
      "text/html": [
       "<div>\n",
       "<style scoped>\n",
       "    .dataframe tbody tr th:only-of-type {\n",
       "        vertical-align: middle;\n",
       "    }\n",
       "\n",
       "    .dataframe tbody tr th {\n",
       "        vertical-align: top;\n",
       "    }\n",
       "\n",
       "    .dataframe thead th {\n",
       "        text-align: right;\n",
       "    }\n",
       "</style>\n",
       "<table border=\"1\" class=\"dataframe\">\n",
       "  <thead>\n",
       "    <tr style=\"text-align: right;\">\n",
       "      <th></th>\n",
       "      <th>Person ID</th>\n",
       "      <th>Gender</th>\n",
       "      <th>Age</th>\n",
       "      <th>Occupation</th>\n",
       "      <th>Sleep Duration</th>\n",
       "      <th>Quality of Sleep</th>\n",
       "      <th>Physical Activity Level</th>\n",
       "      <th>Stress Level</th>\n",
       "      <th>BMI Category</th>\n",
       "      <th>Blood Pressure</th>\n",
       "      <th>Heart Rate</th>\n",
       "      <th>Daily Steps</th>\n",
       "      <th>Sleep Disorder</th>\n",
       "    </tr>\n",
       "  </thead>\n",
       "  <tbody>\n",
       "    <tr>\n",
       "      <th>0</th>\n",
       "      <td>1</td>\n",
       "      <td>Male</td>\n",
       "      <td>27</td>\n",
       "      <td>Software Engineer</td>\n",
       "      <td>6.1</td>\n",
       "      <td>6</td>\n",
       "      <td>42</td>\n",
       "      <td>6</td>\n",
       "      <td>Overweight</td>\n",
       "      <td>126/83</td>\n",
       "      <td>77</td>\n",
       "      <td>4200</td>\n",
       "      <td>NaN</td>\n",
       "    </tr>\n",
       "    <tr>\n",
       "      <th>1</th>\n",
       "      <td>2</td>\n",
       "      <td>Male</td>\n",
       "      <td>28</td>\n",
       "      <td>Doctor</td>\n",
       "      <td>6.2</td>\n",
       "      <td>6</td>\n",
       "      <td>60</td>\n",
       "      <td>8</td>\n",
       "      <td>Normal</td>\n",
       "      <td>125/80</td>\n",
       "      <td>75</td>\n",
       "      <td>10000</td>\n",
       "      <td>NaN</td>\n",
       "    </tr>\n",
       "    <tr>\n",
       "      <th>2</th>\n",
       "      <td>3</td>\n",
       "      <td>Male</td>\n",
       "      <td>28</td>\n",
       "      <td>Doctor</td>\n",
       "      <td>6.2</td>\n",
       "      <td>6</td>\n",
       "      <td>60</td>\n",
       "      <td>8</td>\n",
       "      <td>Normal</td>\n",
       "      <td>125/80</td>\n",
       "      <td>75</td>\n",
       "      <td>10000</td>\n",
       "      <td>NaN</td>\n",
       "    </tr>\n",
       "    <tr>\n",
       "      <th>3</th>\n",
       "      <td>4</td>\n",
       "      <td>Male</td>\n",
       "      <td>28</td>\n",
       "      <td>Sales Representative</td>\n",
       "      <td>5.9</td>\n",
       "      <td>4</td>\n",
       "      <td>30</td>\n",
       "      <td>8</td>\n",
       "      <td>Obese</td>\n",
       "      <td>140/90</td>\n",
       "      <td>85</td>\n",
       "      <td>3000</td>\n",
       "      <td>Sleep Apnea</td>\n",
       "    </tr>\n",
       "    <tr>\n",
       "      <th>4</th>\n",
       "      <td>5</td>\n",
       "      <td>Male</td>\n",
       "      <td>28</td>\n",
       "      <td>Sales Representative</td>\n",
       "      <td>5.9</td>\n",
       "      <td>4</td>\n",
       "      <td>30</td>\n",
       "      <td>8</td>\n",
       "      <td>Obese</td>\n",
       "      <td>140/90</td>\n",
       "      <td>85</td>\n",
       "      <td>3000</td>\n",
       "      <td>Sleep Apnea</td>\n",
       "    </tr>\n",
       "  </tbody>\n",
       "</table>\n",
       "</div>"
      ],
      "text/plain": [
       "   Person ID Gender  Age            Occupation  Sleep Duration  \\\n",
       "0          1   Male   27     Software Engineer             6.1   \n",
       "1          2   Male   28                Doctor             6.2   \n",
       "2          3   Male   28                Doctor             6.2   \n",
       "3          4   Male   28  Sales Representative             5.9   \n",
       "4          5   Male   28  Sales Representative             5.9   \n",
       "\n",
       "   Quality of Sleep  Physical Activity Level  Stress Level BMI Category  \\\n",
       "0                 6                       42             6   Overweight   \n",
       "1                 6                       60             8       Normal   \n",
       "2                 6                       60             8       Normal   \n",
       "3                 4                       30             8        Obese   \n",
       "4                 4                       30             8        Obese   \n",
       "\n",
       "  Blood Pressure  Heart Rate  Daily Steps Sleep Disorder  \n",
       "0         126/83          77         4200            NaN  \n",
       "1         125/80          75        10000            NaN  \n",
       "2         125/80          75        10000            NaN  \n",
       "3         140/90          85         3000    Sleep Apnea  \n",
       "4         140/90          85         3000    Sleep Apnea  "
      ]
     },
     "execution_count": 9,
     "metadata": {},
     "output_type": "execute_result"
    }
   ],
   "source": [
    "stress = pd.read_csv(\"Sleep_health_and_lifestyle_dataset.csv\")\n",
    "# Display the first 5 rows of the dataset\n",
    "stress.head()"
   ]
  },
  {
   "cell_type": "code",
   "execution_count": 10,
   "id": "cc832089",
   "metadata": {
    "execution": {
     "iopub.execute_input": "2025-03-25T14:43:17.306513Z",
     "iopub.status.busy": "2025-03-25T14:43:17.306188Z",
     "iopub.status.idle": "2025-03-25T14:43:17.333443Z",
     "shell.execute_reply": "2025-03-25T14:43:17.332241Z"
    },
    "papermill": {
     "duration": 0.037643,
     "end_time": "2025-03-25T14:43:17.335330",
     "exception": false,
     "start_time": "2025-03-25T14:43:17.297687",
     "status": "completed"
    },
    "tags": []
   },
   "outputs": [
    {
     "name": "stdout",
     "output_type": "stream",
     "text": [
      "<class 'pandas.core.frame.DataFrame'>\n",
      "RangeIndex: 374 entries, 0 to 373\n",
      "Data columns (total 13 columns):\n",
      " #   Column                   Non-Null Count  Dtype  \n",
      "---  ------                   --------------  -----  \n",
      " 0   Person ID                374 non-null    int64  \n",
      " 1   Gender                   374 non-null    object \n",
      " 2   Age                      374 non-null    int64  \n",
      " 3   Occupation               374 non-null    object \n",
      " 4   Sleep Duration           374 non-null    float64\n",
      " 5   Quality of Sleep         374 non-null    int64  \n",
      " 6   Physical Activity Level  374 non-null    int64  \n",
      " 7   Stress Level             374 non-null    int64  \n",
      " 8   BMI Category             374 non-null    object \n",
      " 9   Blood Pressure           374 non-null    object \n",
      " 10  Heart Rate               374 non-null    int64  \n",
      " 11  Daily Steps              374 non-null    int64  \n",
      " 12  Sleep Disorder           155 non-null    object \n",
      "dtypes: float64(1), int64(7), object(5)\n",
      "memory usage: 38.1+ KB\n"
     ]
    }
   ],
   "source": [
    "# Display the data types, non-null counts, and memory usage.\n",
    "stress.info()"
   ]
  },
  {
   "cell_type": "code",
   "execution_count": 11,
   "id": "b068b93b",
   "metadata": {
    "execution": {
     "iopub.execute_input": "2025-03-25T14:43:17.352419Z",
     "iopub.status.busy": "2025-03-25T14:43:17.352048Z",
     "iopub.status.idle": "2025-03-25T14:43:17.357752Z",
     "shell.execute_reply": "2025-03-25T14:43:17.356767Z"
    },
    "papermill": {
     "duration": 0.01597,
     "end_time": "2025-03-25T14:43:17.359306",
     "exception": false,
     "start_time": "2025-03-25T14:43:17.343336",
     "status": "completed"
    },
    "tags": []
   },
   "outputs": [
    {
     "data": {
      "text/plain": [
       "(374, 13)"
      ]
     },
     "execution_count": 11,
     "metadata": {},
     "output_type": "execute_result"
    }
   ],
   "source": [
    "stress.shape"
   ]
  },
  {
   "cell_type": "code",
   "execution_count": 12,
   "id": "3c4c72b9",
   "metadata": {
    "execution": {
     "iopub.execute_input": "2025-03-25T14:43:17.376631Z",
     "iopub.status.busy": "2025-03-25T14:43:17.376259Z",
     "iopub.status.idle": "2025-03-25T14:43:17.383983Z",
     "shell.execute_reply": "2025-03-25T14:43:17.382977Z"
    },
    "papermill": {
     "duration": 0.018368,
     "end_time": "2025-03-25T14:43:17.385691",
     "exception": false,
     "start_time": "2025-03-25T14:43:17.367323",
     "status": "completed"
    },
    "tags": []
   },
   "outputs": [
    {
     "data": {
      "text/plain": [
       "Person ID                    0\n",
       "Gender                       0\n",
       "Age                          0\n",
       "Occupation                   0\n",
       "Sleep Duration               0\n",
       "Quality of Sleep             0\n",
       "Physical Activity Level      0\n",
       "Stress Level                 0\n",
       "BMI Category                 0\n",
       "Blood Pressure               0\n",
       "Heart Rate                   0\n",
       "Daily Steps                  0\n",
       "Sleep Disorder             219\n",
       "dtype: int64"
      ]
     },
     "execution_count": 12,
     "metadata": {},
     "output_type": "execute_result"
    }
   ],
   "source": [
    "# Checking the null values\n",
    "stress.isnull().sum()"
   ]
  },
  {
   "cell_type": "code",
   "execution_count": 13,
   "id": "7285afa9",
   "metadata": {
    "execution": {
     "iopub.execute_input": "2025-03-25T14:43:17.403494Z",
     "iopub.status.busy": "2025-03-25T14:43:17.403151Z",
     "iopub.status.idle": "2025-03-25T14:43:17.417485Z",
     "shell.execute_reply": "2025-03-25T14:43:17.416438Z"
    },
    "papermill": {
     "duration": 0.025419,
     "end_time": "2025-03-25T14:43:17.419217",
     "exception": false,
     "start_time": "2025-03-25T14:43:17.393798",
     "status": "completed"
    },
    "tags": []
   },
   "outputs": [
    {
     "data": {
      "text/html": [
       "<div>\n",
       "<style scoped>\n",
       "    .dataframe tbody tr th:only-of-type {\n",
       "        vertical-align: middle;\n",
       "    }\n",
       "\n",
       "    .dataframe tbody tr th {\n",
       "        vertical-align: top;\n",
       "    }\n",
       "\n",
       "    .dataframe thead th {\n",
       "        text-align: right;\n",
       "    }\n",
       "</style>\n",
       "<table border=\"1\" class=\"dataframe\">\n",
       "  <thead>\n",
       "    <tr style=\"text-align: right;\">\n",
       "      <th></th>\n",
       "      <th>Person ID</th>\n",
       "      <th>Gender</th>\n",
       "      <th>Age</th>\n",
       "      <th>Occupation</th>\n",
       "      <th>Sleep Duration</th>\n",
       "      <th>Quality of Sleep</th>\n",
       "      <th>Physical Activity Level</th>\n",
       "      <th>Stress Level</th>\n",
       "      <th>BMI Category</th>\n",
       "      <th>Blood Pressure</th>\n",
       "      <th>Heart Rate</th>\n",
       "      <th>Daily Steps</th>\n",
       "      <th>Sleep Disorder</th>\n",
       "    </tr>\n",
       "  </thead>\n",
       "  <tbody>\n",
       "    <tr>\n",
       "      <th>0</th>\n",
       "      <td>1</td>\n",
       "      <td>Male</td>\n",
       "      <td>27</td>\n",
       "      <td>Software Engineer</td>\n",
       "      <td>6.1</td>\n",
       "      <td>6</td>\n",
       "      <td>42</td>\n",
       "      <td>6</td>\n",
       "      <td>Overweight</td>\n",
       "      <td>126/83</td>\n",
       "      <td>77</td>\n",
       "      <td>4200</td>\n",
       "      <td>Nothing</td>\n",
       "    </tr>\n",
       "    <tr>\n",
       "      <th>1</th>\n",
       "      <td>2</td>\n",
       "      <td>Male</td>\n",
       "      <td>28</td>\n",
       "      <td>Doctor</td>\n",
       "      <td>6.2</td>\n",
       "      <td>6</td>\n",
       "      <td>60</td>\n",
       "      <td>8</td>\n",
       "      <td>Normal</td>\n",
       "      <td>125/80</td>\n",
       "      <td>75</td>\n",
       "      <td>10000</td>\n",
       "      <td>Nothing</td>\n",
       "    </tr>\n",
       "    <tr>\n",
       "      <th>2</th>\n",
       "      <td>3</td>\n",
       "      <td>Male</td>\n",
       "      <td>28</td>\n",
       "      <td>Doctor</td>\n",
       "      <td>6.2</td>\n",
       "      <td>6</td>\n",
       "      <td>60</td>\n",
       "      <td>8</td>\n",
       "      <td>Normal</td>\n",
       "      <td>125/80</td>\n",
       "      <td>75</td>\n",
       "      <td>10000</td>\n",
       "      <td>Nothing</td>\n",
       "    </tr>\n",
       "    <tr>\n",
       "      <th>3</th>\n",
       "      <td>4</td>\n",
       "      <td>Male</td>\n",
       "      <td>28</td>\n",
       "      <td>Sales Representative</td>\n",
       "      <td>5.9</td>\n",
       "      <td>4</td>\n",
       "      <td>30</td>\n",
       "      <td>8</td>\n",
       "      <td>Obese</td>\n",
       "      <td>140/90</td>\n",
       "      <td>85</td>\n",
       "      <td>3000</td>\n",
       "      <td>Sleep Apnea</td>\n",
       "    </tr>\n",
       "    <tr>\n",
       "      <th>4</th>\n",
       "      <td>5</td>\n",
       "      <td>Male</td>\n",
       "      <td>28</td>\n",
       "      <td>Sales Representative</td>\n",
       "      <td>5.9</td>\n",
       "      <td>4</td>\n",
       "      <td>30</td>\n",
       "      <td>8</td>\n",
       "      <td>Obese</td>\n",
       "      <td>140/90</td>\n",
       "      <td>85</td>\n",
       "      <td>3000</td>\n",
       "      <td>Sleep Apnea</td>\n",
       "    </tr>\n",
       "  </tbody>\n",
       "</table>\n",
       "</div>"
      ],
      "text/plain": [
       "   Person ID Gender  Age            Occupation  Sleep Duration  \\\n",
       "0          1   Male   27     Software Engineer             6.1   \n",
       "1          2   Male   28                Doctor             6.2   \n",
       "2          3   Male   28                Doctor             6.2   \n",
       "3          4   Male   28  Sales Representative             5.9   \n",
       "4          5   Male   28  Sales Representative             5.9   \n",
       "\n",
       "   Quality of Sleep  Physical Activity Level  Stress Level BMI Category  \\\n",
       "0                 6                       42             6   Overweight   \n",
       "1                 6                       60             8       Normal   \n",
       "2                 6                       60             8       Normal   \n",
       "3                 4                       30             8        Obese   \n",
       "4                 4                       30             8        Obese   \n",
       "\n",
       "  Blood Pressure  Heart Rate  Daily Steps Sleep Disorder  \n",
       "0         126/83          77         4200        Nothing  \n",
       "1         125/80          75        10000        Nothing  \n",
       "2         125/80          75        10000        Nothing  \n",
       "3         140/90          85         3000    Sleep Apnea  \n",
       "4         140/90          85         3000    Sleep Apnea  "
      ]
     },
     "execution_count": 13,
     "metadata": {},
     "output_type": "execute_result"
    }
   ],
   "source": [
    "# Handle missing values\n",
    "stress['Sleep Disorder'].fillna('Nothing', inplace=True)\n",
    "stress.head()"
   ]
  },
  {
   "cell_type": "code",
   "execution_count": 14,
   "id": "071e9c35",
   "metadata": {
    "execution": {
     "iopub.execute_input": "2025-03-25T14:43:17.437414Z",
     "iopub.status.busy": "2025-03-25T14:43:17.437082Z",
     "iopub.status.idle": "2025-03-25T14:43:17.444171Z",
     "shell.execute_reply": "2025-03-25T14:43:17.443296Z"
    },
    "papermill": {
     "duration": 0.017837,
     "end_time": "2025-03-25T14:43:17.445708",
     "exception": false,
     "start_time": "2025-03-25T14:43:17.427871",
     "status": "completed"
    },
    "tags": []
   },
   "outputs": [
    {
     "data": {
      "text/plain": [
       "BMI Category\n",
       "Normal           195\n",
       "Overweight       148\n",
       "Normal Weight     21\n",
       "Obese             10\n",
       "Name: count, dtype: int64"
      ]
     },
     "execution_count": 14,
     "metadata": {},
     "output_type": "execute_result"
    }
   ],
   "source": [
    "stress[\"BMI Category\"].value_counts()"
   ]
  },
  {
   "cell_type": "code",
   "execution_count": 15,
   "id": "9f85e73d",
   "metadata": {
    "execution": {
     "iopub.execute_input": "2025-03-25T14:43:17.463593Z",
     "iopub.status.busy": "2025-03-25T14:43:17.463269Z",
     "iopub.status.idle": "2025-03-25T14:43:17.468502Z",
     "shell.execute_reply": "2025-03-25T14:43:17.467561Z"
    },
    "papermill": {
     "duration": 0.015931,
     "end_time": "2025-03-25T14:43:17.470083",
     "exception": false,
     "start_time": "2025-03-25T14:43:17.454152",
     "status": "completed"
    },
    "tags": []
   },
   "outputs": [],
   "source": [
    "stress['BMI Category'] = stress['BMI Category'].replace({'Normal Weight': 'Normal'})"
   ]
  },
  {
   "cell_type": "code",
   "execution_count": 16,
   "id": "f256e8a4",
   "metadata": {
    "execution": {
     "iopub.execute_input": "2025-03-25T14:43:17.487795Z",
     "iopub.status.busy": "2025-03-25T14:43:17.487417Z",
     "iopub.status.idle": "2025-03-25T14:43:17.500348Z",
     "shell.execute_reply": "2025-03-25T14:43:17.499170Z"
    },
    "papermill": {
     "duration": 0.023855,
     "end_time": "2025-03-25T14:43:17.502251",
     "exception": false,
     "start_time": "2025-03-25T14:43:17.478396",
     "status": "completed"
    },
    "tags": []
   },
   "outputs": [
    {
     "name": "stdout",
     "output_type": "stream",
     "text": [
      "Duplicate Rows:\n",
      "Empty DataFrame\n",
      "Columns: [Person ID, Gender, Age, Occupation, Sleep Duration, Quality of Sleep, Physical Activity Level, Stress Level, BMI Category, Blood Pressure, Heart Rate, Daily Steps, Sleep Disorder]\n",
      "Index: []\n"
     ]
    }
   ],
   "source": [
    "duplicate_rows = stress[stress.duplicated()]\n",
    "\n",
    "print(\"Duplicate Rows:\")\n",
    "print(duplicate_rows)"
   ]
  },
  {
   "cell_type": "code",
   "execution_count": 17,
   "id": "e4f4882d",
   "metadata": {
    "execution": {
     "iopub.execute_input": "2025-03-25T14:43:17.520216Z",
     "iopub.status.busy": "2025-03-25T14:43:17.519804Z",
     "iopub.status.idle": "2025-03-25T14:43:17.533139Z",
     "shell.execute_reply": "2025-03-25T14:43:17.531947Z"
    },
    "papermill": {
     "duration": 0.024097,
     "end_time": "2025-03-25T14:43:17.534729",
     "exception": false,
     "start_time": "2025-03-25T14:43:17.510632",
     "status": "completed"
    },
    "tags": []
   },
   "outputs": [
    {
     "data": {
      "text/html": [
       "<div>\n",
       "<style scoped>\n",
       "    .dataframe tbody tr th:only-of-type {\n",
       "        vertical-align: middle;\n",
       "    }\n",
       "\n",
       "    .dataframe tbody tr th {\n",
       "        vertical-align: top;\n",
       "    }\n",
       "\n",
       "    .dataframe thead th {\n",
       "        text-align: right;\n",
       "    }\n",
       "</style>\n",
       "<table border=\"1\" class=\"dataframe\">\n",
       "  <thead>\n",
       "    <tr style=\"text-align: right;\">\n",
       "      <th></th>\n",
       "      <th>Person ID</th>\n",
       "      <th>Gender</th>\n",
       "      <th>Age</th>\n",
       "      <th>Occupation</th>\n",
       "      <th>Sleep Duration</th>\n",
       "      <th>Quality of Sleep</th>\n",
       "      <th>Physical Activity Level</th>\n",
       "      <th>Stress Level</th>\n",
       "      <th>BMI Category</th>\n",
       "      <th>Blood Pressure</th>\n",
       "      <th>Heart Rate</th>\n",
       "      <th>Daily Steps</th>\n",
       "      <th>Sleep Disorder</th>\n",
       "    </tr>\n",
       "  </thead>\n",
       "  <tbody>\n",
       "    <tr>\n",
       "      <th>unique count</th>\n",
       "      <td>374</td>\n",
       "      <td>2</td>\n",
       "      <td>31</td>\n",
       "      <td>11</td>\n",
       "      <td>27</td>\n",
       "      <td>6</td>\n",
       "      <td>16</td>\n",
       "      <td>6</td>\n",
       "      <td>3</td>\n",
       "      <td>25</td>\n",
       "      <td>19</td>\n",
       "      <td>20</td>\n",
       "      <td>3</td>\n",
       "    </tr>\n",
       "  </tbody>\n",
       "</table>\n",
       "</div>"
      ],
      "text/plain": [
       "              Person ID  Gender  Age  Occupation  Sleep Duration  \\\n",
       "unique count        374       2   31          11              27   \n",
       "\n",
       "              Quality of Sleep  Physical Activity Level  Stress Level  \\\n",
       "unique count                 6                       16             6   \n",
       "\n",
       "              BMI Category  Blood Pressure  Heart Rate  Daily Steps  \\\n",
       "unique count             3              25          19           20   \n",
       "\n",
       "              Sleep Disorder  \n",
       "unique count               3  "
      ]
     },
     "execution_count": 17,
     "metadata": {},
     "output_type": "execute_result"
    }
   ],
   "source": [
    "stress.nunique().to_frame('unique count').T"
   ]
  },
  {
   "cell_type": "code",
   "execution_count": 18,
   "id": "3615bc10",
   "metadata": {
    "execution": {
     "iopub.execute_input": "2025-03-25T14:43:17.553809Z",
     "iopub.status.busy": "2025-03-25T14:43:17.553271Z",
     "iopub.status.idle": "2025-03-25T14:43:17.560467Z",
     "shell.execute_reply": "2025-03-25T14:43:17.559333Z"
    },
    "papermill": {
     "duration": 0.019184,
     "end_time": "2025-03-25T14:43:17.562444",
     "exception": false,
     "start_time": "2025-03-25T14:43:17.543260",
     "status": "completed"
    },
    "tags": []
   },
   "outputs": [
    {
     "data": {
      "text/plain": [
       "array(['Software Engineer', 'Doctor', 'Sales Representative', 'Teacher',\n",
       "       'Nurse', 'Engineer', 'Accountant', 'Scientist', 'Lawyer',\n",
       "       'Salesperson', 'Manager'], dtype=object)"
      ]
     },
     "execution_count": 18,
     "metadata": {},
     "output_type": "execute_result"
    }
   ],
   "source": [
    "stress['Occupation'].unique()"
   ]
  },
  {
   "cell_type": "code",
   "execution_count": 19,
   "id": "51bf5096",
   "metadata": {
    "execution": {
     "iopub.execute_input": "2025-03-25T14:43:17.585829Z",
     "iopub.status.busy": "2025-03-25T14:43:17.585336Z",
     "iopub.status.idle": "2025-03-25T14:43:17.592420Z",
     "shell.execute_reply": "2025-03-25T14:43:17.591099Z"
    },
    "papermill": {
     "duration": 0.020354,
     "end_time": "2025-03-25T14:43:17.594499",
     "exception": false,
     "start_time": "2025-03-25T14:43:17.574145",
     "status": "completed"
    },
    "tags": []
   },
   "outputs": [
    {
     "data": {
      "text/plain": [
       "array(['Nothing', 'Sleep Apnea', 'Insomnia'], dtype=object)"
      ]
     },
     "execution_count": 19,
     "metadata": {},
     "output_type": "execute_result"
    }
   ],
   "source": [
    "stress['Sleep Disorder'].unique()"
   ]
  },
  {
   "cell_type": "code",
   "execution_count": 20,
   "id": "4bc0f79c",
   "metadata": {
    "execution": {
     "iopub.execute_input": "2025-03-25T14:43:17.617727Z",
     "iopub.status.busy": "2025-03-25T14:43:17.617253Z",
     "iopub.status.idle": "2025-03-25T14:43:17.624535Z",
     "shell.execute_reply": "2025-03-25T14:43:17.623329Z"
    },
    "papermill": {
     "duration": 0.019499,
     "end_time": "2025-03-25T14:43:17.625993",
     "exception": false,
     "start_time": "2025-03-25T14:43:17.606494",
     "status": "completed"
    },
    "tags": []
   },
   "outputs": [
    {
     "data": {
      "text/plain": [
       "array(['Overweight', 'Normal', 'Obese'], dtype=object)"
      ]
     },
     "execution_count": 20,
     "metadata": {},
     "output_type": "execute_result"
    }
   ],
   "source": [
    "stress['BMI Category'].unique()"
   ]
  },
  {
   "cell_type": "code",
   "execution_count": 21,
   "id": "63f39d77",
   "metadata": {
    "execution": {
     "iopub.execute_input": "2025-03-25T14:43:17.645642Z",
     "iopub.status.busy": "2025-03-25T14:43:17.645321Z",
     "iopub.status.idle": "2025-03-25T14:43:17.658448Z",
     "shell.execute_reply": "2025-03-25T14:43:17.657307Z"
    },
    "papermill": {
     "duration": 0.025151,
     "end_time": "2025-03-25T14:43:17.660155",
     "exception": false,
     "start_time": "2025-03-25T14:43:17.635004",
     "status": "completed"
    },
    "tags": []
   },
   "outputs": [],
   "source": [
    "# Feature Engineering\n",
    "stress[['Systolic BP', 'Diastolic BP']] = stress['Blood Pressure'].str.split('/', expand=True).astype(int)\n",
    "stress['BP_Ratio'] = stress['Diastolic BP'] / stress['Systolic BP']\n",
    "stress['Age_Group'] = pd.cut(stress['Age'], bins=[18,30,45,60,100], labels=['Young','Adult','Mid-Age','Senior'])"
   ]
  },
  {
   "cell_type": "code",
   "execution_count": 22,
   "id": "69db46b0",
   "metadata": {
    "execution": {
     "iopub.execute_input": "2025-03-25T14:43:17.679014Z",
     "iopub.status.busy": "2025-03-25T14:43:17.678629Z",
     "iopub.status.idle": "2025-03-25T14:43:17.693914Z",
     "shell.execute_reply": "2025-03-25T14:43:17.692958Z"
    },
    "papermill": {
     "duration": 0.026187,
     "end_time": "2025-03-25T14:43:17.695472",
     "exception": false,
     "start_time": "2025-03-25T14:43:17.669285",
     "status": "completed"
    },
    "tags": []
   },
   "outputs": [
    {
     "data": {
      "text/html": [
       "<div>\n",
       "<style scoped>\n",
       "    .dataframe tbody tr th:only-of-type {\n",
       "        vertical-align: middle;\n",
       "    }\n",
       "\n",
       "    .dataframe tbody tr th {\n",
       "        vertical-align: top;\n",
       "    }\n",
       "\n",
       "    .dataframe thead th {\n",
       "        text-align: right;\n",
       "    }\n",
       "</style>\n",
       "<table border=\"1\" class=\"dataframe\">\n",
       "  <thead>\n",
       "    <tr style=\"text-align: right;\">\n",
       "      <th></th>\n",
       "      <th>Person ID</th>\n",
       "      <th>Gender</th>\n",
       "      <th>Age</th>\n",
       "      <th>Occupation</th>\n",
       "      <th>Sleep Duration</th>\n",
       "      <th>Quality of Sleep</th>\n",
       "      <th>Physical Activity Level</th>\n",
       "      <th>Stress Level</th>\n",
       "      <th>BMI Category</th>\n",
       "      <th>Blood Pressure</th>\n",
       "      <th>Heart Rate</th>\n",
       "      <th>Daily Steps</th>\n",
       "      <th>Sleep Disorder</th>\n",
       "      <th>Systolic BP</th>\n",
       "      <th>Diastolic BP</th>\n",
       "      <th>BP_Ratio</th>\n",
       "      <th>Age_Group</th>\n",
       "    </tr>\n",
       "  </thead>\n",
       "  <tbody>\n",
       "    <tr>\n",
       "      <th>0</th>\n",
       "      <td>1</td>\n",
       "      <td>Male</td>\n",
       "      <td>27</td>\n",
       "      <td>Software Engineer</td>\n",
       "      <td>6.1</td>\n",
       "      <td>6</td>\n",
       "      <td>42</td>\n",
       "      <td>6</td>\n",
       "      <td>Overweight</td>\n",
       "      <td>126/83</td>\n",
       "      <td>77</td>\n",
       "      <td>4200</td>\n",
       "      <td>Nothing</td>\n",
       "      <td>126</td>\n",
       "      <td>83</td>\n",
       "      <td>0.658730</td>\n",
       "      <td>Young</td>\n",
       "    </tr>\n",
       "    <tr>\n",
       "      <th>1</th>\n",
       "      <td>2</td>\n",
       "      <td>Male</td>\n",
       "      <td>28</td>\n",
       "      <td>Doctor</td>\n",
       "      <td>6.2</td>\n",
       "      <td>6</td>\n",
       "      <td>60</td>\n",
       "      <td>8</td>\n",
       "      <td>Normal</td>\n",
       "      <td>125/80</td>\n",
       "      <td>75</td>\n",
       "      <td>10000</td>\n",
       "      <td>Nothing</td>\n",
       "      <td>125</td>\n",
       "      <td>80</td>\n",
       "      <td>0.640000</td>\n",
       "      <td>Young</td>\n",
       "    </tr>\n",
       "    <tr>\n",
       "      <th>2</th>\n",
       "      <td>3</td>\n",
       "      <td>Male</td>\n",
       "      <td>28</td>\n",
       "      <td>Doctor</td>\n",
       "      <td>6.2</td>\n",
       "      <td>6</td>\n",
       "      <td>60</td>\n",
       "      <td>8</td>\n",
       "      <td>Normal</td>\n",
       "      <td>125/80</td>\n",
       "      <td>75</td>\n",
       "      <td>10000</td>\n",
       "      <td>Nothing</td>\n",
       "      <td>125</td>\n",
       "      <td>80</td>\n",
       "      <td>0.640000</td>\n",
       "      <td>Young</td>\n",
       "    </tr>\n",
       "    <tr>\n",
       "      <th>3</th>\n",
       "      <td>4</td>\n",
       "      <td>Male</td>\n",
       "      <td>28</td>\n",
       "      <td>Sales Representative</td>\n",
       "      <td>5.9</td>\n",
       "      <td>4</td>\n",
       "      <td>30</td>\n",
       "      <td>8</td>\n",
       "      <td>Obese</td>\n",
       "      <td>140/90</td>\n",
       "      <td>85</td>\n",
       "      <td>3000</td>\n",
       "      <td>Sleep Apnea</td>\n",
       "      <td>140</td>\n",
       "      <td>90</td>\n",
       "      <td>0.642857</td>\n",
       "      <td>Young</td>\n",
       "    </tr>\n",
       "    <tr>\n",
       "      <th>4</th>\n",
       "      <td>5</td>\n",
       "      <td>Male</td>\n",
       "      <td>28</td>\n",
       "      <td>Sales Representative</td>\n",
       "      <td>5.9</td>\n",
       "      <td>4</td>\n",
       "      <td>30</td>\n",
       "      <td>8</td>\n",
       "      <td>Obese</td>\n",
       "      <td>140/90</td>\n",
       "      <td>85</td>\n",
       "      <td>3000</td>\n",
       "      <td>Sleep Apnea</td>\n",
       "      <td>140</td>\n",
       "      <td>90</td>\n",
       "      <td>0.642857</td>\n",
       "      <td>Young</td>\n",
       "    </tr>\n",
       "  </tbody>\n",
       "</table>\n",
       "</div>"
      ],
      "text/plain": [
       "   Person ID Gender  Age            Occupation  Sleep Duration  \\\n",
       "0          1   Male   27     Software Engineer             6.1   \n",
       "1          2   Male   28                Doctor             6.2   \n",
       "2          3   Male   28                Doctor             6.2   \n",
       "3          4   Male   28  Sales Representative             5.9   \n",
       "4          5   Male   28  Sales Representative             5.9   \n",
       "\n",
       "   Quality of Sleep  Physical Activity Level  Stress Level BMI Category  \\\n",
       "0                 6                       42             6   Overweight   \n",
       "1                 6                       60             8       Normal   \n",
       "2                 6                       60             8       Normal   \n",
       "3                 4                       30             8        Obese   \n",
       "4                 4                       30             8        Obese   \n",
       "\n",
       "  Blood Pressure  Heart Rate  Daily Steps Sleep Disorder  Systolic BP  \\\n",
       "0         126/83          77         4200        Nothing          126   \n",
       "1         125/80          75        10000        Nothing          125   \n",
       "2         125/80          75        10000        Nothing          125   \n",
       "3         140/90          85         3000    Sleep Apnea          140   \n",
       "4         140/90          85         3000    Sleep Apnea          140   \n",
       "\n",
       "   Diastolic BP  BP_Ratio Age_Group  \n",
       "0            83  0.658730     Young  \n",
       "1            80  0.640000     Young  \n",
       "2            80  0.640000     Young  \n",
       "3            90  0.642857     Young  \n",
       "4            90  0.642857     Young  "
      ]
     },
     "execution_count": 22,
     "metadata": {},
     "output_type": "execute_result"
    }
   ],
   "source": [
    "stress.head()"
   ]
  },
  {
   "cell_type": "code",
   "execution_count": 23,
   "id": "a90d08a1",
   "metadata": {
    "execution": {
     "iopub.execute_input": "2025-03-25T14:43:17.718560Z",
     "iopub.status.busy": "2025-03-25T14:43:17.718222Z",
     "iopub.status.idle": "2025-03-25T14:43:17.724577Z",
     "shell.execute_reply": "2025-03-25T14:43:17.723591Z"
    },
    "papermill": {
     "duration": 0.021415,
     "end_time": "2025-03-25T14:43:17.726412",
     "exception": false,
     "start_time": "2025-03-25T14:43:17.704997",
     "status": "completed"
    },
    "tags": []
   },
   "outputs": [],
   "source": [
    "# Drop unnecessary columns\n",
    "stress.drop(['Person ID', 'Blood Pressure', 'Physical Activity Level'], axis=1, inplace=True)"
   ]
  },
  {
   "cell_type": "code",
   "execution_count": 24,
   "id": "94a80b68",
   "metadata": {
    "execution": {
     "iopub.execute_input": "2025-03-25T14:43:17.750548Z",
     "iopub.status.busy": "2025-03-25T14:43:17.750048Z",
     "iopub.status.idle": "2025-03-25T14:43:17.763882Z",
     "shell.execute_reply": "2025-03-25T14:43:17.762776Z"
    },
    "papermill": {
     "duration": 0.029819,
     "end_time": "2025-03-25T14:43:17.765989",
     "exception": false,
     "start_time": "2025-03-25T14:43:17.736170",
     "status": "completed"
    },
    "tags": []
   },
   "outputs": [],
   "source": [
    "# 1. Initial Data Prep (no transforms)\n",
    "X = stress.drop('Stress Level', axis=1)\n",
    "y = stress['Stress Level']\n",
    "\n",
    "# 2. Train-Test Split\n",
    "X_train, X_test, y_train, y_test = train_test_split(\n",
    "    X, y, \n",
    "    test_size=0.2, \n",
    "    random_state=42,\n",
    "    stratify=y\n",
    ")\n",
    "\n"
   ]
  },
  {
   "cell_type": "code",
   "execution_count": 25,
   "id": "b2e378db",
   "metadata": {
    "execution": {
     "iopub.execute_input": "2025-03-25T14:43:17.797185Z",
     "iopub.status.busy": "2025-03-25T14:43:17.796763Z",
     "iopub.status.idle": "2025-03-25T14:43:17.802108Z",
     "shell.execute_reply": "2025-03-25T14:43:17.800643Z"
    },
    "papermill": {
     "duration": 0.023428,
     "end_time": "2025-03-25T14:43:17.803645",
     "exception": false,
     "start_time": "2025-03-25T14:43:17.780217",
     "status": "completed"
    },
    "tags": []
   },
   "outputs": [],
   "source": [
    "# 3. Define Feature Types\n",
    "numeric_features = ['Age', 'Sleep Duration','Quality of Sleep','Heart Rate',\n",
    "                    'Daily Steps','Systolic BP', 'Diastolic BP', 'BP_Ratio']\n",
    "\n",
    "ordinal_features = ['BMI Category', 'Age_Group'] \n",
    "nominal_features = ['Gender','Occupation']"
   ]
  },
  {
   "cell_type": "code",
   "execution_count": 26,
   "id": "95745d2e",
   "metadata": {
    "execution": {
     "iopub.execute_input": "2025-03-25T14:43:17.828848Z",
     "iopub.status.busy": "2025-03-25T14:43:17.828459Z",
     "iopub.status.idle": "2025-03-25T14:43:17.833264Z",
     "shell.execute_reply": "2025-03-25T14:43:17.832322Z"
    },
    "papermill": {
     "duration": 0.01778,
     "end_time": "2025-03-25T14:43:17.834881",
     "exception": false,
     "start_time": "2025-03-25T14:43:17.817101",
     "status": "completed"
    },
    "tags": []
   },
   "outputs": [],
   "source": [
    "preprocessor = ColumnTransformer(\n",
    "    transformers=[\n",
    "        ('num', StandardScaler(), numeric_features),\n",
    "        ('ord', OrdinalEncoder(categories=[\n",
    "            ['Overweight', 'Normal', 'Obese'],  # BMI Category\n",
    "            ['Young','Adult','Mid-Age','Senior']   # Age_Group\n",
    "        ]), ordinal_features),\n",
    "        ('nom', OneHotEncoder(handle_unknown='ignore'), nominal_features)\n",
    "    ],\n",
    "    remainder='drop'  \n",
    ")\n"
   ]
  },
  {
   "cell_type": "code",
   "execution_count": 27,
   "id": "6cc22920",
   "metadata": {
    "execution": {
     "iopub.execute_input": "2025-03-25T14:43:17.853802Z",
     "iopub.status.busy": "2025-03-25T14:43:17.853420Z",
     "iopub.status.idle": "2025-03-25T14:43:17.877843Z",
     "shell.execute_reply": "2025-03-25T14:43:17.876675Z"
    },
    "papermill": {
     "duration": 0.036407,
     "end_time": "2025-03-25T14:43:17.880233",
     "exception": false,
     "start_time": "2025-03-25T14:43:17.843826",
     "status": "completed"
    },
    "tags": []
   },
   "outputs": [],
   "source": [
    "# 5. Process Data\n",
    "X_train_proc = preprocessor.fit_transform(X_train)\n",
    "X_test_proc = preprocessor.transform(X_test)  "
   ]
  },
  {
   "cell_type": "code",
   "execution_count": 28,
   "id": "1bb51324",
   "metadata": {
    "execution": {
     "iopub.execute_input": "2025-03-25T14:43:17.907145Z",
     "iopub.status.busy": "2025-03-25T14:43:17.906762Z",
     "iopub.status.idle": "2025-03-25T14:43:17.937421Z",
     "shell.execute_reply": "2025-03-25T14:43:17.936404Z"
    },
    "papermill": {
     "duration": 0.046725,
     "end_time": "2025-03-25T14:43:17.939037",
     "exception": false,
     "start_time": "2025-03-25T14:43:17.892312",
     "status": "completed"
    },
    "tags": []
   },
   "outputs": [
    {
     "data": {
      "text/html": [
       "<div>\n",
       "<style scoped>\n",
       "    .dataframe tbody tr th:only-of-type {\n",
       "        vertical-align: middle;\n",
       "    }\n",
       "\n",
       "    .dataframe tbody tr th {\n",
       "        vertical-align: top;\n",
       "    }\n",
       "\n",
       "    .dataframe thead th {\n",
       "        text-align: right;\n",
       "    }\n",
       "</style>\n",
       "<table border=\"1\" class=\"dataframe\">\n",
       "  <thead>\n",
       "    <tr style=\"text-align: right;\">\n",
       "      <th></th>\n",
       "      <th>0</th>\n",
       "      <th>1</th>\n",
       "      <th>2</th>\n",
       "      <th>3</th>\n",
       "      <th>4</th>\n",
       "      <th>5</th>\n",
       "      <th>6</th>\n",
       "      <th>7</th>\n",
       "      <th>8</th>\n",
       "      <th>9</th>\n",
       "      <th>...</th>\n",
       "      <th>13</th>\n",
       "      <th>14</th>\n",
       "      <th>15</th>\n",
       "      <th>16</th>\n",
       "      <th>17</th>\n",
       "      <th>18</th>\n",
       "      <th>19</th>\n",
       "      <th>20</th>\n",
       "      <th>21</th>\n",
       "      <th>22</th>\n",
       "    </tr>\n",
       "  </thead>\n",
       "  <tbody>\n",
       "    <tr>\n",
       "      <th>0</th>\n",
       "      <td>-1.428347</td>\n",
       "      <td>0.696882</td>\n",
       "      <td>-0.270669</td>\n",
       "      <td>-0.064277</td>\n",
       "      <td>0.712017</td>\n",
       "      <td>-1.103254</td>\n",
       "      <td>-0.751719</td>\n",
       "      <td>0.672146</td>\n",
       "      <td>1.0</td>\n",
       "      <td>0.0</td>\n",
       "      <td>...</td>\n",
       "      <td>1.0</td>\n",
       "      <td>0.0</td>\n",
       "      <td>0.0</td>\n",
       "      <td>0.0</td>\n",
       "      <td>0.0</td>\n",
       "      <td>0.0</td>\n",
       "      <td>0.0</td>\n",
       "      <td>0.0</td>\n",
       "      <td>0.0</td>\n",
       "      <td>0.0</td>\n",
       "    </tr>\n",
       "    <tr>\n",
       "      <th>1</th>\n",
       "      <td>-1.312952</td>\n",
       "      <td>-1.307859</td>\n",
       "      <td>-1.104999</td>\n",
       "      <td>0.410265</td>\n",
       "      <td>-1.110698</td>\n",
       "      <td>-0.460978</td>\n",
       "      <td>-0.751719</td>\n",
       "      <td>-1.404780</td>\n",
       "      <td>1.0</td>\n",
       "      <td>1.0</td>\n",
       "      <td>...</td>\n",
       "      <td>1.0</td>\n",
       "      <td>0.0</td>\n",
       "      <td>0.0</td>\n",
       "      <td>0.0</td>\n",
       "      <td>0.0</td>\n",
       "      <td>0.0</td>\n",
       "      <td>0.0</td>\n",
       "      <td>0.0</td>\n",
       "      <td>0.0</td>\n",
       "      <td>0.0</td>\n",
       "    </tr>\n",
       "    <tr>\n",
       "      <th>2</th>\n",
       "      <td>-0.735979</td>\n",
       "      <td>0.070401</td>\n",
       "      <td>0.563661</td>\n",
       "      <td>-0.538820</td>\n",
       "      <td>0.104445</td>\n",
       "      <td>-1.745530</td>\n",
       "      <td>-1.556748</td>\n",
       "      <td>-0.456618</td>\n",
       "      <td>1.0</td>\n",
       "      <td>1.0</td>\n",
       "      <td>...</td>\n",
       "      <td>0.0</td>\n",
       "      <td>0.0</td>\n",
       "      <td>0.0</td>\n",
       "      <td>0.0</td>\n",
       "      <td>0.0</td>\n",
       "      <td>0.0</td>\n",
       "      <td>0.0</td>\n",
       "      <td>0.0</td>\n",
       "      <td>0.0</td>\n",
       "      <td>0.0</td>\n",
       "    </tr>\n",
       "    <tr>\n",
       "      <th>3</th>\n",
       "      <td>-0.620584</td>\n",
       "      <td>0.822178</td>\n",
       "      <td>0.563661</td>\n",
       "      <td>-0.538820</td>\n",
       "      <td>0.104445</td>\n",
       "      <td>-1.103254</td>\n",
       "      <td>-0.751719</td>\n",
       "      <td>0.672146</td>\n",
       "      <td>1.0</td>\n",
       "      <td>1.0</td>\n",
       "      <td>...</td>\n",
       "      <td>0.0</td>\n",
       "      <td>1.0</td>\n",
       "      <td>0.0</td>\n",
       "      <td>0.0</td>\n",
       "      <td>0.0</td>\n",
       "      <td>0.0</td>\n",
       "      <td>0.0</td>\n",
       "      <td>0.0</td>\n",
       "      <td>0.0</td>\n",
       "      <td>0.0</td>\n",
       "    </tr>\n",
       "    <tr>\n",
       "      <th>4</th>\n",
       "      <td>-0.043611</td>\n",
       "      <td>-0.430785</td>\n",
       "      <td>-1.104999</td>\n",
       "      <td>1.833893</td>\n",
       "      <td>-1.110698</td>\n",
       "      <td>0.181298</td>\n",
       "      <td>0.053310</td>\n",
       "      <td>-0.326376</td>\n",
       "      <td>0.0</td>\n",
       "      <td>1.0</td>\n",
       "      <td>...</td>\n",
       "      <td>0.0</td>\n",
       "      <td>0.0</td>\n",
       "      <td>0.0</td>\n",
       "      <td>0.0</td>\n",
       "      <td>0.0</td>\n",
       "      <td>0.0</td>\n",
       "      <td>0.0</td>\n",
       "      <td>0.0</td>\n",
       "      <td>0.0</td>\n",
       "      <td>1.0</td>\n",
       "    </tr>\n",
       "    <tr>\n",
       "      <th>...</th>\n",
       "      <td>...</td>\n",
       "      <td>...</td>\n",
       "      <td>...</td>\n",
       "      <td>...</td>\n",
       "      <td>...</td>\n",
       "      <td>...</td>\n",
       "      <td>...</td>\n",
       "      <td>...</td>\n",
       "      <td>...</td>\n",
       "      <td>...</td>\n",
       "      <td>...</td>\n",
       "      <td>...</td>\n",
       "      <td>...</td>\n",
       "      <td>...</td>\n",
       "      <td>...</td>\n",
       "      <td>...</td>\n",
       "      <td>...</td>\n",
       "      <td>...</td>\n",
       "      <td>...</td>\n",
       "      <td>...</td>\n",
       "      <td>...</td>\n",
       "    </tr>\n",
       "    <tr>\n",
       "      <th>294</th>\n",
       "      <td>-0.505190</td>\n",
       "      <td>-0.054896</td>\n",
       "      <td>0.563661</td>\n",
       "      <td>-0.538820</td>\n",
       "      <td>0.712017</td>\n",
       "      <td>0.181298</td>\n",
       "      <td>0.053310</td>\n",
       "      <td>-0.326376</td>\n",
       "      <td>1.0</td>\n",
       "      <td>1.0</td>\n",
       "      <td>...</td>\n",
       "      <td>0.0</td>\n",
       "      <td>0.0</td>\n",
       "      <td>1.0</td>\n",
       "      <td>0.0</td>\n",
       "      <td>0.0</td>\n",
       "      <td>0.0</td>\n",
       "      <td>0.0</td>\n",
       "      <td>0.0</td>\n",
       "      <td>0.0</td>\n",
       "      <td>0.0</td>\n",
       "    </tr>\n",
       "    <tr>\n",
       "      <th>295</th>\n",
       "      <td>-1.197558</td>\n",
       "      <td>-1.433155</td>\n",
       "      <td>-1.104999</td>\n",
       "      <td>0.410265</td>\n",
       "      <td>-1.110698</td>\n",
       "      <td>-0.460978</td>\n",
       "      <td>-0.751719</td>\n",
       "      <td>-1.404780</td>\n",
       "      <td>1.0</td>\n",
       "      <td>1.0</td>\n",
       "      <td>...</td>\n",
       "      <td>1.0</td>\n",
       "      <td>0.0</td>\n",
       "      <td>0.0</td>\n",
       "      <td>0.0</td>\n",
       "      <td>0.0</td>\n",
       "      <td>0.0</td>\n",
       "      <td>0.0</td>\n",
       "      <td>0.0</td>\n",
       "      <td>0.0</td>\n",
       "      <td>0.0</td>\n",
       "    </tr>\n",
       "    <tr>\n",
       "      <th>296</th>\n",
       "      <td>1.687310</td>\n",
       "      <td>1.323363</td>\n",
       "      <td>1.397991</td>\n",
       "      <td>-0.538820</td>\n",
       "      <td>0.104445</td>\n",
       "      <td>1.465850</td>\n",
       "      <td>1.663367</td>\n",
       "      <td>1.599344</td>\n",
       "      <td>0.0</td>\n",
       "      <td>2.0</td>\n",
       "      <td>...</td>\n",
       "      <td>0.0</td>\n",
       "      <td>0.0</td>\n",
       "      <td>0.0</td>\n",
       "      <td>0.0</td>\n",
       "      <td>1.0</td>\n",
       "      <td>0.0</td>\n",
       "      <td>0.0</td>\n",
       "      <td>0.0</td>\n",
       "      <td>0.0</td>\n",
       "      <td>0.0</td>\n",
       "    </tr>\n",
       "    <tr>\n",
       "      <th>297</th>\n",
       "      <td>-1.428347</td>\n",
       "      <td>0.947475</td>\n",
       "      <td>-0.270669</td>\n",
       "      <td>-0.064277</td>\n",
       "      <td>0.712017</td>\n",
       "      <td>-1.103254</td>\n",
       "      <td>-0.751719</td>\n",
       "      <td>0.672146</td>\n",
       "      <td>1.0</td>\n",
       "      <td>0.0</td>\n",
       "      <td>...</td>\n",
       "      <td>1.0</td>\n",
       "      <td>0.0</td>\n",
       "      <td>0.0</td>\n",
       "      <td>0.0</td>\n",
       "      <td>0.0</td>\n",
       "      <td>0.0</td>\n",
       "      <td>0.0</td>\n",
       "      <td>0.0</td>\n",
       "      <td>0.0</td>\n",
       "      <td>0.0</td>\n",
       "    </tr>\n",
       "    <tr>\n",
       "      <th>298</th>\n",
       "      <td>1.918099</td>\n",
       "      <td>1.198067</td>\n",
       "      <td>1.397991</td>\n",
       "      <td>-0.538820</td>\n",
       "      <td>0.104445</td>\n",
       "      <td>1.465850</td>\n",
       "      <td>1.663367</td>\n",
       "      <td>1.599344</td>\n",
       "      <td>0.0</td>\n",
       "      <td>2.0</td>\n",
       "      <td>...</td>\n",
       "      <td>0.0</td>\n",
       "      <td>0.0</td>\n",
       "      <td>0.0</td>\n",
       "      <td>0.0</td>\n",
       "      <td>1.0</td>\n",
       "      <td>0.0</td>\n",
       "      <td>0.0</td>\n",
       "      <td>0.0</td>\n",
       "      <td>0.0</td>\n",
       "      <td>0.0</td>\n",
       "    </tr>\n",
       "  </tbody>\n",
       "</table>\n",
       "<p>299 rows × 23 columns</p>\n",
       "</div>"
      ],
      "text/plain": [
       "           0         1         2         3         4         5         6   \\\n",
       "0   -1.428347  0.696882 -0.270669 -0.064277  0.712017 -1.103254 -0.751719   \n",
       "1   -1.312952 -1.307859 -1.104999  0.410265 -1.110698 -0.460978 -0.751719   \n",
       "2   -0.735979  0.070401  0.563661 -0.538820  0.104445 -1.745530 -1.556748   \n",
       "3   -0.620584  0.822178  0.563661 -0.538820  0.104445 -1.103254 -0.751719   \n",
       "4   -0.043611 -0.430785 -1.104999  1.833893 -1.110698  0.181298  0.053310   \n",
       "..        ...       ...       ...       ...       ...       ...       ...   \n",
       "294 -0.505190 -0.054896  0.563661 -0.538820  0.712017  0.181298  0.053310   \n",
       "295 -1.197558 -1.433155 -1.104999  0.410265 -1.110698 -0.460978 -0.751719   \n",
       "296  1.687310  1.323363  1.397991 -0.538820  0.104445  1.465850  1.663367   \n",
       "297 -1.428347  0.947475 -0.270669 -0.064277  0.712017 -1.103254 -0.751719   \n",
       "298  1.918099  1.198067  1.397991 -0.538820  0.104445  1.465850  1.663367   \n",
       "\n",
       "           7    8    9   ...   13   14   15   16   17   18   19   20   21   22  \n",
       "0    0.672146  1.0  0.0  ...  1.0  0.0  0.0  0.0  0.0  0.0  0.0  0.0  0.0  0.0  \n",
       "1   -1.404780  1.0  1.0  ...  1.0  0.0  0.0  0.0  0.0  0.0  0.0  0.0  0.0  0.0  \n",
       "2   -0.456618  1.0  1.0  ...  0.0  0.0  0.0  0.0  0.0  0.0  0.0  0.0  0.0  0.0  \n",
       "3    0.672146  1.0  1.0  ...  0.0  1.0  0.0  0.0  0.0  0.0  0.0  0.0  0.0  0.0  \n",
       "4   -0.326376  0.0  1.0  ...  0.0  0.0  0.0  0.0  0.0  0.0  0.0  0.0  0.0  1.0  \n",
       "..        ...  ...  ...  ...  ...  ...  ...  ...  ...  ...  ...  ...  ...  ...  \n",
       "294 -0.326376  1.0  1.0  ...  0.0  0.0  1.0  0.0  0.0  0.0  0.0  0.0  0.0  0.0  \n",
       "295 -1.404780  1.0  1.0  ...  1.0  0.0  0.0  0.0  0.0  0.0  0.0  0.0  0.0  0.0  \n",
       "296  1.599344  0.0  2.0  ...  0.0  0.0  0.0  0.0  1.0  0.0  0.0  0.0  0.0  0.0  \n",
       "297  0.672146  1.0  0.0  ...  1.0  0.0  0.0  0.0  0.0  0.0  0.0  0.0  0.0  0.0  \n",
       "298  1.599344  0.0  2.0  ...  0.0  0.0  0.0  0.0  1.0  0.0  0.0  0.0  0.0  0.0  \n",
       "\n",
       "[299 rows x 23 columns]"
      ]
     },
     "execution_count": 28,
     "metadata": {},
     "output_type": "execute_result"
    }
   ],
   "source": [
    "X_train_process=pd.DataFrame(X_train_proc)\n",
    "X_train_process"
   ]
  },
  {
   "cell_type": "code",
   "execution_count": 29,
   "id": "486d1874",
   "metadata": {
    "execution": {
     "iopub.execute_input": "2025-03-25T14:43:17.958778Z",
     "iopub.status.busy": "2025-03-25T14:43:17.958417Z",
     "iopub.status.idle": "2025-03-25T14:43:18.024185Z",
     "shell.execute_reply": "2025-03-25T14:43:18.023359Z"
    },
    "papermill": {
     "duration": 0.077728,
     "end_time": "2025-03-25T14:43:18.026286",
     "exception": false,
     "start_time": "2025-03-25T14:43:17.948558",
     "status": "completed"
    },
    "tags": []
   },
   "outputs": [],
   "source": [
    "# Handle Class Imbalance (ONLY on training)\n",
    "smote = SMOTE(random_state=42)\n",
    "X_train_res, y_train_res = smote.fit_resample(X_train_proc, y_train)"
   ]
  },
  {
   "cell_type": "code",
   "execution_count": 30,
   "id": "f53fe6ff",
   "metadata": {
    "execution": {
     "iopub.execute_input": "2025-03-25T14:43:18.046640Z",
     "iopub.status.busy": "2025-03-25T14:43:18.046321Z",
     "iopub.status.idle": "2025-03-25T14:43:18.051365Z",
     "shell.execute_reply": "2025-03-25T14:43:18.050303Z"
    },
    "papermill": {
     "duration": 0.017222,
     "end_time": "2025-03-25T14:43:18.052847",
     "exception": false,
     "start_time": "2025-03-25T14:43:18.035625",
     "status": "completed"
    },
    "tags": []
   },
   "outputs": [
    {
     "name": "stdout",
     "output_type": "stream",
     "text": [
      "{np.int64(3): np.int64(57), np.int64(4): np.int64(57), np.int64(5): np.int64(57), np.int64(6): np.int64(57), np.int64(7): np.int64(57), np.int64(8): np.int64(57)}\n"
     ]
    }
   ],
   "source": [
    "unique_values, counts = np.unique(y_train_res, return_counts=True)\n",
    "print(dict(zip(unique_values, counts)))"
   ]
  },
  {
   "cell_type": "code",
   "execution_count": 31,
   "id": "d7295bdd",
   "metadata": {
    "execution": {
     "iopub.execute_input": "2025-03-25T14:43:18.072705Z",
     "iopub.status.busy": "2025-03-25T14:43:18.072358Z",
     "iopub.status.idle": "2025-03-25T14:43:18.076654Z",
     "shell.execute_reply": "2025-03-25T14:43:18.075758Z"
    },
    "papermill": {
     "duration": 0.015877,
     "end_time": "2025-03-25T14:43:18.078091",
     "exception": false,
     "start_time": "2025-03-25T14:43:18.062214",
     "status": "completed"
    },
    "tags": []
   },
   "outputs": [],
   "source": [
    "#  Hyperparameter Tuning\n",
    "param_grid = {\n",
    "    'randomforestclassifier__n_estimators': [100, 200],\n",
    "    'randomforestclassifier__max_depth': [None, 10, 20],\n",
    "    'randomforestclassifier__min_samples_split': [2, 5],\n",
    "    'randomforestclassifier__min_samples_leaf': [1, 2]\n",
    "}"
   ]
  },
  {
   "cell_type": "code",
   "execution_count": 32,
   "id": "e4b77990",
   "metadata": {
    "execution": {
     "iopub.execute_input": "2025-03-25T14:43:18.098765Z",
     "iopub.status.busy": "2025-03-25T14:43:18.098396Z",
     "iopub.status.idle": "2025-03-25T14:43:18.103058Z",
     "shell.execute_reply": "2025-03-25T14:43:18.102094Z"
    },
    "papermill": {
     "duration": 0.017051,
     "end_time": "2025-03-25T14:43:18.104632",
     "exception": false,
     "start_time": "2025-03-25T14:43:18.087581",
     "status": "completed"
    },
    "tags": []
   },
   "outputs": [],
   "source": [
    "# Model Training and Evaluation\n",
    "# Initialize Random Forest Classifier\n",
    "rf_model = RandomForestClassifier(\n",
    "    random_state=42,  \n",
    "    n_estimators=100,\n",
    "    max_depth=10,\n",
    "    min_samples_split=5,\n",
    "    min_samples_leaf=2\n",
    ")\n",
    "# Define parameter grid for hyperparameter tuning\n",
    "param_grid = {\n",
    "    'n_estimators': [100, 200],\n",
    "    'max_depth': [None, 10, 20],\n",
    "    'min_samples_split': [2, 5],\n",
    "    'min_samples_leaf': [1, 2]\n",
    "}\n"
   ]
  },
  {
   "cell_type": "code",
   "execution_count": 33,
   "id": "ed24a128",
   "metadata": {
    "execution": {
     "iopub.execute_input": "2025-03-25T14:43:18.124557Z",
     "iopub.status.busy": "2025-03-25T14:43:18.124187Z",
     "iopub.status.idle": "2025-03-25T14:43:18.128256Z",
     "shell.execute_reply": "2025-03-25T14:43:18.127392Z"
    },
    "papermill": {
     "duration": 0.015908,
     "end_time": "2025-03-25T14:43:18.129901",
     "exception": false,
     "start_time": "2025-03-25T14:43:18.113993",
     "status": "completed"
    },
    "tags": []
   },
   "outputs": [],
   "source": [
    "# Set up cross-validation with fixed randomness\n",
    "cv = StratifiedKFold(\n",
    "    n_splits=5,       # 5-fold cross-validation\n",
    "    shuffle=True,     # Shuffle the data before splitting\n",
    "    random_state=42   # Fixes the randomness in data splitting\n",
    ")"
   ]
  },
  {
   "cell_type": "code",
   "execution_count": 34,
   "id": "02b5838c",
   "metadata": {
    "execution": {
     "iopub.execute_input": "2025-03-25T14:43:18.149866Z",
     "iopub.status.busy": "2025-03-25T14:43:18.149483Z",
     "iopub.status.idle": "2025-03-25T14:43:18.153953Z",
     "shell.execute_reply": "2025-03-25T14:43:18.152768Z"
    },
    "papermill": {
     "duration": 0.016249,
     "end_time": "2025-03-25T14:43:18.155586",
     "exception": false,
     "start_time": "2025-03-25T14:43:18.139337",
     "status": "completed"
    },
    "tags": []
   },
   "outputs": [],
   "source": [
    "# Set up GridSearchCV\n",
    "grid_search = GridSearchCV(\n",
    "    estimator=rf_model,\n",
    "    param_grid=param_grid,\n",
    "    cv=cv,            \n",
    "    scoring='accuracy',\n",
    "    n_jobs=-1,        \n",
    "    verbose=1         \n",
    ")\n"
   ]
  },
  {
   "cell_type": "code",
   "execution_count": 35,
   "id": "8782b26a",
   "metadata": {
    "execution": {
     "iopub.execute_input": "2025-03-25T14:43:18.175595Z",
     "iopub.status.busy": "2025-03-25T14:43:18.175264Z",
     "iopub.status.idle": "2025-03-25T14:43:32.592729Z",
     "shell.execute_reply": "2025-03-25T14:43:32.591594Z"
    },
    "papermill": {
     "duration": 14.42938,
     "end_time": "2025-03-25T14:43:32.594425",
     "exception": false,
     "start_time": "2025-03-25T14:43:18.165045",
     "status": "completed"
    },
    "tags": []
   },
   "outputs": [
    {
     "name": "stdout",
     "output_type": "stream",
     "text": [
      "Starting Grid Search...\n",
      "Fitting 5 folds for each of 24 candidates, totalling 120 fits\n"
     ]
    },
    {
     "data": {
      "text/html": [
       "<style>#sk-container-id-1 {\n",
       "  /* Definition of color scheme common for light and dark mode */\n",
       "  --sklearn-color-text: #000;\n",
       "  --sklearn-color-text-muted: #666;\n",
       "  --sklearn-color-line: gray;\n",
       "  /* Definition of color scheme for unfitted estimators */\n",
       "  --sklearn-color-unfitted-level-0: #fff5e6;\n",
       "  --sklearn-color-unfitted-level-1: #f6e4d2;\n",
       "  --sklearn-color-unfitted-level-2: #ffe0b3;\n",
       "  --sklearn-color-unfitted-level-3: chocolate;\n",
       "  /* Definition of color scheme for fitted estimators */\n",
       "  --sklearn-color-fitted-level-0: #f0f8ff;\n",
       "  --sklearn-color-fitted-level-1: #d4ebff;\n",
       "  --sklearn-color-fitted-level-2: #b3dbfd;\n",
       "  --sklearn-color-fitted-level-3: cornflowerblue;\n",
       "\n",
       "  /* Specific color for light theme */\n",
       "  --sklearn-color-text-on-default-background: var(--sg-text-color, var(--theme-code-foreground, var(--jp-content-font-color1, black)));\n",
       "  --sklearn-color-background: var(--sg-background-color, var(--theme-background, var(--jp-layout-color0, white)));\n",
       "  --sklearn-color-border-box: var(--sg-text-color, var(--theme-code-foreground, var(--jp-content-font-color1, black)));\n",
       "  --sklearn-color-icon: #696969;\n",
       "\n",
       "  @media (prefers-color-scheme: dark) {\n",
       "    /* Redefinition of color scheme for dark theme */\n",
       "    --sklearn-color-text-on-default-background: var(--sg-text-color, var(--theme-code-foreground, var(--jp-content-font-color1, white)));\n",
       "    --sklearn-color-background: var(--sg-background-color, var(--theme-background, var(--jp-layout-color0, #111)));\n",
       "    --sklearn-color-border-box: var(--sg-text-color, var(--theme-code-foreground, var(--jp-content-font-color1, white)));\n",
       "    --sklearn-color-icon: #878787;\n",
       "  }\n",
       "}\n",
       "\n",
       "#sk-container-id-1 {\n",
       "  color: var(--sklearn-color-text);\n",
       "}\n",
       "\n",
       "#sk-container-id-1 pre {\n",
       "  padding: 0;\n",
       "}\n",
       "\n",
       "#sk-container-id-1 input.sk-hidden--visually {\n",
       "  border: 0;\n",
       "  clip: rect(1px 1px 1px 1px);\n",
       "  clip: rect(1px, 1px, 1px, 1px);\n",
       "  height: 1px;\n",
       "  margin: -1px;\n",
       "  overflow: hidden;\n",
       "  padding: 0;\n",
       "  position: absolute;\n",
       "  width: 1px;\n",
       "}\n",
       "\n",
       "#sk-container-id-1 div.sk-dashed-wrapped {\n",
       "  border: 1px dashed var(--sklearn-color-line);\n",
       "  margin: 0 0.4em 0.5em 0.4em;\n",
       "  box-sizing: border-box;\n",
       "  padding-bottom: 0.4em;\n",
       "  background-color: var(--sklearn-color-background);\n",
       "}\n",
       "\n",
       "#sk-container-id-1 div.sk-container {\n",
       "  /* jupyter's `normalize.less` sets `[hidden] { display: none; }`\n",
       "     but bootstrap.min.css set `[hidden] { display: none !important; }`\n",
       "     so we also need the `!important` here to be able to override the\n",
       "     default hidden behavior on the sphinx rendered scikit-learn.org.\n",
       "     See: https://github.com/scikit-learn/scikit-learn/issues/21755 */\n",
       "  display: inline-block !important;\n",
       "  position: relative;\n",
       "}\n",
       "\n",
       "#sk-container-id-1 div.sk-text-repr-fallback {\n",
       "  display: none;\n",
       "}\n",
       "\n",
       "div.sk-parallel-item,\n",
       "div.sk-serial,\n",
       "div.sk-item {\n",
       "  /* draw centered vertical line to link estimators */\n",
       "  background-image: linear-gradient(var(--sklearn-color-text-on-default-background), var(--sklearn-color-text-on-default-background));\n",
       "  background-size: 2px 100%;\n",
       "  background-repeat: no-repeat;\n",
       "  background-position: center center;\n",
       "}\n",
       "\n",
       "/* Parallel-specific style estimator block */\n",
       "\n",
       "#sk-container-id-1 div.sk-parallel-item::after {\n",
       "  content: \"\";\n",
       "  width: 100%;\n",
       "  border-bottom: 2px solid var(--sklearn-color-text-on-default-background);\n",
       "  flex-grow: 1;\n",
       "}\n",
       "\n",
       "#sk-container-id-1 div.sk-parallel {\n",
       "  display: flex;\n",
       "  align-items: stretch;\n",
       "  justify-content: center;\n",
       "  background-color: var(--sklearn-color-background);\n",
       "  position: relative;\n",
       "}\n",
       "\n",
       "#sk-container-id-1 div.sk-parallel-item {\n",
       "  display: flex;\n",
       "  flex-direction: column;\n",
       "}\n",
       "\n",
       "#sk-container-id-1 div.sk-parallel-item:first-child::after {\n",
       "  align-self: flex-end;\n",
       "  width: 50%;\n",
       "}\n",
       "\n",
       "#sk-container-id-1 div.sk-parallel-item:last-child::after {\n",
       "  align-self: flex-start;\n",
       "  width: 50%;\n",
       "}\n",
       "\n",
       "#sk-container-id-1 div.sk-parallel-item:only-child::after {\n",
       "  width: 0;\n",
       "}\n",
       "\n",
       "/* Serial-specific style estimator block */\n",
       "\n",
       "#sk-container-id-1 div.sk-serial {\n",
       "  display: flex;\n",
       "  flex-direction: column;\n",
       "  align-items: center;\n",
       "  background-color: var(--sklearn-color-background);\n",
       "  padding-right: 1em;\n",
       "  padding-left: 1em;\n",
       "}\n",
       "\n",
       "\n",
       "/* Toggleable style: style used for estimator/Pipeline/ColumnTransformer box that is\n",
       "clickable and can be expanded/collapsed.\n",
       "- Pipeline and ColumnTransformer use this feature and define the default style\n",
       "- Estimators will overwrite some part of the style using the `sk-estimator` class\n",
       "*/\n",
       "\n",
       "/* Pipeline and ColumnTransformer style (default) */\n",
       "\n",
       "#sk-container-id-1 div.sk-toggleable {\n",
       "  /* Default theme specific background. It is overwritten whether we have a\n",
       "  specific estimator or a Pipeline/ColumnTransformer */\n",
       "  background-color: var(--sklearn-color-background);\n",
       "}\n",
       "\n",
       "/* Toggleable label */\n",
       "#sk-container-id-1 label.sk-toggleable__label {\n",
       "  cursor: pointer;\n",
       "  display: flex;\n",
       "  width: 100%;\n",
       "  margin-bottom: 0;\n",
       "  padding: 0.5em;\n",
       "  box-sizing: border-box;\n",
       "  text-align: center;\n",
       "  align-items: start;\n",
       "  justify-content: space-between;\n",
       "  gap: 0.5em;\n",
       "}\n",
       "\n",
       "#sk-container-id-1 label.sk-toggleable__label .caption {\n",
       "  font-size: 0.6rem;\n",
       "  font-weight: lighter;\n",
       "  color: var(--sklearn-color-text-muted);\n",
       "}\n",
       "\n",
       "#sk-container-id-1 label.sk-toggleable__label-arrow:before {\n",
       "  /* Arrow on the left of the label */\n",
       "  content: \"▸\";\n",
       "  float: left;\n",
       "  margin-right: 0.25em;\n",
       "  color: var(--sklearn-color-icon);\n",
       "}\n",
       "\n",
       "#sk-container-id-1 label.sk-toggleable__label-arrow:hover:before {\n",
       "  color: var(--sklearn-color-text);\n",
       "}\n",
       "\n",
       "/* Toggleable content - dropdown */\n",
       "\n",
       "#sk-container-id-1 div.sk-toggleable__content {\n",
       "  max-height: 0;\n",
       "  max-width: 0;\n",
       "  overflow: hidden;\n",
       "  text-align: left;\n",
       "  /* unfitted */\n",
       "  background-color: var(--sklearn-color-unfitted-level-0);\n",
       "}\n",
       "\n",
       "#sk-container-id-1 div.sk-toggleable__content.fitted {\n",
       "  /* fitted */\n",
       "  background-color: var(--sklearn-color-fitted-level-0);\n",
       "}\n",
       "\n",
       "#sk-container-id-1 div.sk-toggleable__content pre {\n",
       "  margin: 0.2em;\n",
       "  border-radius: 0.25em;\n",
       "  color: var(--sklearn-color-text);\n",
       "  /* unfitted */\n",
       "  background-color: var(--sklearn-color-unfitted-level-0);\n",
       "}\n",
       "\n",
       "#sk-container-id-1 div.sk-toggleable__content.fitted pre {\n",
       "  /* unfitted */\n",
       "  background-color: var(--sklearn-color-fitted-level-0);\n",
       "}\n",
       "\n",
       "#sk-container-id-1 input.sk-toggleable__control:checked~div.sk-toggleable__content {\n",
       "  /* Expand drop-down */\n",
       "  max-height: 200px;\n",
       "  max-width: 100%;\n",
       "  overflow: auto;\n",
       "}\n",
       "\n",
       "#sk-container-id-1 input.sk-toggleable__control:checked~label.sk-toggleable__label-arrow:before {\n",
       "  content: \"▾\";\n",
       "}\n",
       "\n",
       "/* Pipeline/ColumnTransformer-specific style */\n",
       "\n",
       "#sk-container-id-1 div.sk-label input.sk-toggleable__control:checked~label.sk-toggleable__label {\n",
       "  color: var(--sklearn-color-text);\n",
       "  background-color: var(--sklearn-color-unfitted-level-2);\n",
       "}\n",
       "\n",
       "#sk-container-id-1 div.sk-label.fitted input.sk-toggleable__control:checked~label.sk-toggleable__label {\n",
       "  background-color: var(--sklearn-color-fitted-level-2);\n",
       "}\n",
       "\n",
       "/* Estimator-specific style */\n",
       "\n",
       "/* Colorize estimator box */\n",
       "#sk-container-id-1 div.sk-estimator input.sk-toggleable__control:checked~label.sk-toggleable__label {\n",
       "  /* unfitted */\n",
       "  background-color: var(--sklearn-color-unfitted-level-2);\n",
       "}\n",
       "\n",
       "#sk-container-id-1 div.sk-estimator.fitted input.sk-toggleable__control:checked~label.sk-toggleable__label {\n",
       "  /* fitted */\n",
       "  background-color: var(--sklearn-color-fitted-level-2);\n",
       "}\n",
       "\n",
       "#sk-container-id-1 div.sk-label label.sk-toggleable__label,\n",
       "#sk-container-id-1 div.sk-label label {\n",
       "  /* The background is the default theme color */\n",
       "  color: var(--sklearn-color-text-on-default-background);\n",
       "}\n",
       "\n",
       "/* On hover, darken the color of the background */\n",
       "#sk-container-id-1 div.sk-label:hover label.sk-toggleable__label {\n",
       "  color: var(--sklearn-color-text);\n",
       "  background-color: var(--sklearn-color-unfitted-level-2);\n",
       "}\n",
       "\n",
       "/* Label box, darken color on hover, fitted */\n",
       "#sk-container-id-1 div.sk-label.fitted:hover label.sk-toggleable__label.fitted {\n",
       "  color: var(--sklearn-color-text);\n",
       "  background-color: var(--sklearn-color-fitted-level-2);\n",
       "}\n",
       "\n",
       "/* Estimator label */\n",
       "\n",
       "#sk-container-id-1 div.sk-label label {\n",
       "  font-family: monospace;\n",
       "  font-weight: bold;\n",
       "  display: inline-block;\n",
       "  line-height: 1.2em;\n",
       "}\n",
       "\n",
       "#sk-container-id-1 div.sk-label-container {\n",
       "  text-align: center;\n",
       "}\n",
       "\n",
       "/* Estimator-specific */\n",
       "#sk-container-id-1 div.sk-estimator {\n",
       "  font-family: monospace;\n",
       "  border: 1px dotted var(--sklearn-color-border-box);\n",
       "  border-radius: 0.25em;\n",
       "  box-sizing: border-box;\n",
       "  margin-bottom: 0.5em;\n",
       "  /* unfitted */\n",
       "  background-color: var(--sklearn-color-unfitted-level-0);\n",
       "}\n",
       "\n",
       "#sk-container-id-1 div.sk-estimator.fitted {\n",
       "  /* fitted */\n",
       "  background-color: var(--sklearn-color-fitted-level-0);\n",
       "}\n",
       "\n",
       "/* on hover */\n",
       "#sk-container-id-1 div.sk-estimator:hover {\n",
       "  /* unfitted */\n",
       "  background-color: var(--sklearn-color-unfitted-level-2);\n",
       "}\n",
       "\n",
       "#sk-container-id-1 div.sk-estimator.fitted:hover {\n",
       "  /* fitted */\n",
       "  background-color: var(--sklearn-color-fitted-level-2);\n",
       "}\n",
       "\n",
       "/* Specification for estimator info (e.g. \"i\" and \"?\") */\n",
       "\n",
       "/* Common style for \"i\" and \"?\" */\n",
       "\n",
       ".sk-estimator-doc-link,\n",
       "a:link.sk-estimator-doc-link,\n",
       "a:visited.sk-estimator-doc-link {\n",
       "  float: right;\n",
       "  font-size: smaller;\n",
       "  line-height: 1em;\n",
       "  font-family: monospace;\n",
       "  background-color: var(--sklearn-color-background);\n",
       "  border-radius: 1em;\n",
       "  height: 1em;\n",
       "  width: 1em;\n",
       "  text-decoration: none !important;\n",
       "  margin-left: 0.5em;\n",
       "  text-align: center;\n",
       "  /* unfitted */\n",
       "  border: var(--sklearn-color-unfitted-level-1) 1pt solid;\n",
       "  color: var(--sklearn-color-unfitted-level-1);\n",
       "}\n",
       "\n",
       ".sk-estimator-doc-link.fitted,\n",
       "a:link.sk-estimator-doc-link.fitted,\n",
       "a:visited.sk-estimator-doc-link.fitted {\n",
       "  /* fitted */\n",
       "  border: var(--sklearn-color-fitted-level-1) 1pt solid;\n",
       "  color: var(--sklearn-color-fitted-level-1);\n",
       "}\n",
       "\n",
       "/* On hover */\n",
       "div.sk-estimator:hover .sk-estimator-doc-link:hover,\n",
       ".sk-estimator-doc-link:hover,\n",
       "div.sk-label-container:hover .sk-estimator-doc-link:hover,\n",
       ".sk-estimator-doc-link:hover {\n",
       "  /* unfitted */\n",
       "  background-color: var(--sklearn-color-unfitted-level-3);\n",
       "  color: var(--sklearn-color-background);\n",
       "  text-decoration: none;\n",
       "}\n",
       "\n",
       "div.sk-estimator.fitted:hover .sk-estimator-doc-link.fitted:hover,\n",
       ".sk-estimator-doc-link.fitted:hover,\n",
       "div.sk-label-container:hover .sk-estimator-doc-link.fitted:hover,\n",
       ".sk-estimator-doc-link.fitted:hover {\n",
       "  /* fitted */\n",
       "  background-color: var(--sklearn-color-fitted-level-3);\n",
       "  color: var(--sklearn-color-background);\n",
       "  text-decoration: none;\n",
       "}\n",
       "\n",
       "/* Span, style for the box shown on hovering the info icon */\n",
       ".sk-estimator-doc-link span {\n",
       "  display: none;\n",
       "  z-index: 9999;\n",
       "  position: relative;\n",
       "  font-weight: normal;\n",
       "  right: .2ex;\n",
       "  padding: .5ex;\n",
       "  margin: .5ex;\n",
       "  width: min-content;\n",
       "  min-width: 20ex;\n",
       "  max-width: 50ex;\n",
       "  color: var(--sklearn-color-text);\n",
       "  box-shadow: 2pt 2pt 4pt #999;\n",
       "  /* unfitted */\n",
       "  background: var(--sklearn-color-unfitted-level-0);\n",
       "  border: .5pt solid var(--sklearn-color-unfitted-level-3);\n",
       "}\n",
       "\n",
       ".sk-estimator-doc-link.fitted span {\n",
       "  /* fitted */\n",
       "  background: var(--sklearn-color-fitted-level-0);\n",
       "  border: var(--sklearn-color-fitted-level-3);\n",
       "}\n",
       "\n",
       ".sk-estimator-doc-link:hover span {\n",
       "  display: block;\n",
       "}\n",
       "\n",
       "/* \"?\"-specific style due to the `<a>` HTML tag */\n",
       "\n",
       "#sk-container-id-1 a.estimator_doc_link {\n",
       "  float: right;\n",
       "  font-size: 1rem;\n",
       "  line-height: 1em;\n",
       "  font-family: monospace;\n",
       "  background-color: var(--sklearn-color-background);\n",
       "  border-radius: 1rem;\n",
       "  height: 1rem;\n",
       "  width: 1rem;\n",
       "  text-decoration: none;\n",
       "  /* unfitted */\n",
       "  color: var(--sklearn-color-unfitted-level-1);\n",
       "  border: var(--sklearn-color-unfitted-level-1) 1pt solid;\n",
       "}\n",
       "\n",
       "#sk-container-id-1 a.estimator_doc_link.fitted {\n",
       "  /* fitted */\n",
       "  border: var(--sklearn-color-fitted-level-1) 1pt solid;\n",
       "  color: var(--sklearn-color-fitted-level-1);\n",
       "}\n",
       "\n",
       "/* On hover */\n",
       "#sk-container-id-1 a.estimator_doc_link:hover {\n",
       "  /* unfitted */\n",
       "  background-color: var(--sklearn-color-unfitted-level-3);\n",
       "  color: var(--sklearn-color-background);\n",
       "  text-decoration: none;\n",
       "}\n",
       "\n",
       "#sk-container-id-1 a.estimator_doc_link.fitted:hover {\n",
       "  /* fitted */\n",
       "  background-color: var(--sklearn-color-fitted-level-3);\n",
       "}\n",
       "</style><div id=\"sk-container-id-1\" class=\"sk-top-container\"><div class=\"sk-text-repr-fallback\"><pre>GridSearchCV(cv=StratifiedKFold(n_splits=5, random_state=42, shuffle=True),\n",
       "             estimator=RandomForestClassifier(max_depth=10, min_samples_leaf=2,\n",
       "                                              min_samples_split=5,\n",
       "                                              random_state=42),\n",
       "             n_jobs=-1,\n",
       "             param_grid={&#x27;max_depth&#x27;: [None, 10, 20],\n",
       "                         &#x27;min_samples_leaf&#x27;: [1, 2],\n",
       "                         &#x27;min_samples_split&#x27;: [2, 5],\n",
       "                         &#x27;n_estimators&#x27;: [100, 200]},\n",
       "             scoring=&#x27;accuracy&#x27;, verbose=1)</pre><b>In a Jupyter environment, please rerun this cell to show the HTML representation or trust the notebook. <br />On GitHub, the HTML representation is unable to render, please try loading this page with nbviewer.org.</b></div><div class=\"sk-container\" hidden><div class=\"sk-item sk-dashed-wrapped\"><div class=\"sk-label-container\"><div class=\"sk-label fitted sk-toggleable\"><input class=\"sk-toggleable__control sk-hidden--visually\" id=\"sk-estimator-id-1\" type=\"checkbox\" ><label for=\"sk-estimator-id-1\" class=\"sk-toggleable__label fitted sk-toggleable__label-arrow\"><div><div>GridSearchCV</div></div><div><a class=\"sk-estimator-doc-link fitted\" rel=\"noreferrer\" target=\"_blank\" href=\"https://scikit-learn.org/1.6/modules/generated/sklearn.model_selection.GridSearchCV.html\">?<span>Documentation for GridSearchCV</span></a><span class=\"sk-estimator-doc-link fitted\">i<span>Fitted</span></span></div></label><div class=\"sk-toggleable__content fitted\"><pre>GridSearchCV(cv=StratifiedKFold(n_splits=5, random_state=42, shuffle=True),\n",
       "             estimator=RandomForestClassifier(max_depth=10, min_samples_leaf=2,\n",
       "                                              min_samples_split=5,\n",
       "                                              random_state=42),\n",
       "             n_jobs=-1,\n",
       "             param_grid={&#x27;max_depth&#x27;: [None, 10, 20],\n",
       "                         &#x27;min_samples_leaf&#x27;: [1, 2],\n",
       "                         &#x27;min_samples_split&#x27;: [2, 5],\n",
       "                         &#x27;n_estimators&#x27;: [100, 200]},\n",
       "             scoring=&#x27;accuracy&#x27;, verbose=1)</pre></div> </div></div><div class=\"sk-parallel\"><div class=\"sk-parallel-item\"><div class=\"sk-item\"><div class=\"sk-label-container\"><div class=\"sk-label fitted sk-toggleable\"><input class=\"sk-toggleable__control sk-hidden--visually\" id=\"sk-estimator-id-2\" type=\"checkbox\" ><label for=\"sk-estimator-id-2\" class=\"sk-toggleable__label fitted sk-toggleable__label-arrow\"><div><div>best_estimator_: RandomForestClassifier</div></div></label><div class=\"sk-toggleable__content fitted\"><pre>RandomForestClassifier(random_state=42)</pre></div> </div></div><div class=\"sk-serial\"><div class=\"sk-item\"><div class=\"sk-estimator fitted sk-toggleable\"><input class=\"sk-toggleable__control sk-hidden--visually\" id=\"sk-estimator-id-3\" type=\"checkbox\" ><label for=\"sk-estimator-id-3\" class=\"sk-toggleable__label fitted sk-toggleable__label-arrow\"><div><div>RandomForestClassifier</div></div><div><a class=\"sk-estimator-doc-link fitted\" rel=\"noreferrer\" target=\"_blank\" href=\"https://scikit-learn.org/1.6/modules/generated/sklearn.ensemble.RandomForestClassifier.html\">?<span>Documentation for RandomForestClassifier</span></a></div></label><div class=\"sk-toggleable__content fitted\"><pre>RandomForestClassifier(random_state=42)</pre></div> </div></div></div></div></div></div></div></div></div>"
      ],
      "text/plain": [
       "GridSearchCV(cv=StratifiedKFold(n_splits=5, random_state=42, shuffle=True),\n",
       "             estimator=RandomForestClassifier(max_depth=10, min_samples_leaf=2,\n",
       "                                              min_samples_split=5,\n",
       "                                              random_state=42),\n",
       "             n_jobs=-1,\n",
       "             param_grid={'max_depth': [None, 10, 20],\n",
       "                         'min_samples_leaf': [1, 2],\n",
       "                         'min_samples_split': [2, 5],\n",
       "                         'n_estimators': [100, 200]},\n",
       "             scoring='accuracy', verbose=1)"
      ]
     },
     "execution_count": 35,
     "metadata": {},
     "output_type": "execute_result"
    }
   ],
   "source": [
    "# Fit the model\n",
    "print(\"Starting Grid Search...\")\n",
    "grid_search.fit(X_train_res, y_train_res)"
   ]
  },
  {
   "cell_type": "code",
   "execution_count": 36,
   "id": "cf3a2b14",
   "metadata": {
    "execution": {
     "iopub.execute_input": "2025-03-25T14:43:32.615533Z",
     "iopub.status.busy": "2025-03-25T14:43:32.615194Z",
     "iopub.status.idle": "2025-03-25T14:43:32.619773Z",
     "shell.execute_reply": "2025-03-25T14:43:32.618788Z"
    },
    "papermill": {
     "duration": 0.016828,
     "end_time": "2025-03-25T14:43:32.621357",
     "exception": false,
     "start_time": "2025-03-25T14:43:32.604529",
     "status": "completed"
    },
    "tags": []
   },
   "outputs": [
    {
     "name": "stdout",
     "output_type": "stream",
     "text": [
      "\n",
      "Best Parameters: {'max_depth': None, 'min_samples_leaf': 1, 'min_samples_split': 2, 'n_estimators': 100}\n",
      "Best Validation Accuracy: 0.97\n"
     ]
    }
   ],
   "source": [
    "# Get best model\n",
    "best_rf = grid_search.best_estimator_\n",
    "print(f\"\\nBest Parameters: {grid_search.best_params_}\")\n",
    "print(f\"Best Validation Accuracy: {grid_search.best_score_:.2f}\")"
   ]
  },
  {
   "cell_type": "code",
   "execution_count": 37,
   "id": "357f4889",
   "metadata": {
    "execution": {
     "iopub.execute_input": "2025-03-25T14:43:32.643169Z",
     "iopub.status.busy": "2025-03-25T14:43:32.642817Z",
     "iopub.status.idle": "2025-03-25T14:43:32.667811Z",
     "shell.execute_reply": "2025-03-25T14:43:32.666543Z"
    },
    "papermill": {
     "duration": 0.03838,
     "end_time": "2025-03-25T14:43:32.669585",
     "exception": false,
     "start_time": "2025-03-25T14:43:32.631205",
     "status": "completed"
    },
    "tags": []
   },
   "outputs": [
    {
     "name": "stdout",
     "output_type": "stream",
     "text": [
      "\n",
      "Test Set Evaluation:\n",
      "Accuracy: 0.99\n",
      "\n",
      "Classification Report:\n",
      "              precision    recall  f1-score   support\n",
      "\n",
      "           3       1.00      1.00      1.00        14\n",
      "           4       1.00      1.00      1.00        14\n",
      "           5       1.00      1.00      1.00        14\n",
      "           6       1.00      1.00      1.00         9\n",
      "           7       1.00      0.90      0.95        10\n",
      "           8       0.93      1.00      0.97        14\n",
      "\n",
      "    accuracy                           0.99        75\n",
      "   macro avg       0.99      0.98      0.99        75\n",
      "weighted avg       0.99      0.99      0.99        75\n",
      "\n"
     ]
    }
   ],
   "source": [
    "# Evaluate on test set\n",
    "y_pred = best_rf.predict(X_test_proc)\n",
    "\n",
    "# Model Evaluation Metrics\n",
    "print(\"\\nTest Set Evaluation:\")\n",
    "print(f\"Accuracy: {accuracy_score(y_test, y_pred):.2f}\")\n",
    "print(\"\\nClassification Report:\")\n",
    "print(classification_report(y_test, y_pred))"
   ]
  },
  {
   "cell_type": "code",
   "execution_count": 38,
   "id": "fb872c34",
   "metadata": {
    "execution": {
     "iopub.execute_input": "2025-03-25T14:43:32.690710Z",
     "iopub.status.busy": "2025-03-25T14:43:32.690339Z",
     "iopub.status.idle": "2025-03-25T14:43:33.057648Z",
     "shell.execute_reply": "2025-03-25T14:43:33.056422Z"
    },
    "papermill": {
     "duration": 0.379916,
     "end_time": "2025-03-25T14:43:33.059458",
     "exception": false,
     "start_time": "2025-03-25T14:43:32.679542",
     "status": "completed"
    },
    "tags": []
   },
   "outputs": [
    {
     "data": {
      "image/png": "[encoded data removed]",
      "text/plain": [
       "<Figure size 640x480 with 2 Axes>"
      ]
     },
     "metadata": {},
     "output_type": "display_data"
    }
   ],
   "source": [
    "# Confusion Matrix Visualization\n",
    "cm = confusion_matrix(y_test, y_pred)\n",
    "disp = ConfusionMatrixDisplay(confusion_matrix=cm, \n",
    "                            display_labels=best_rf.classes_)\n",
    "disp.plot(cmap='Blues')\n",
    "plt.title('Confusion Matrix')\n",
    "plt.show()"
   ]
  },
  {
   "cell_type": "code",
   "execution_count": 39,
   "id": "726d85d6",
   "metadata": {
    "execution": {
     "iopub.execute_input": "2025-03-25T14:43:33.081756Z",
     "iopub.status.busy": "2025-03-25T14:43:33.081369Z",
     "iopub.status.idle": "2025-03-25T14:43:33.085374Z",
     "shell.execute_reply": "2025-03-25T14:43:33.084379Z"
    },
    "papermill": {
     "duration": 0.016984,
     "end_time": "2025-03-25T14:43:33.087112",
     "exception": false,
     "start_time": "2025-03-25T14:43:33.070128",
     "status": "completed"
    },
    "tags": []
   },
   "outputs": [],
   "source": [
    "# Feature Importance Analysis\n",
    "# Get feature names after preprocessing\n",
    "numeric_feature_names = numeric_features\n",
    "ordinal_feature_names = ordinal_features"
   ]
  },
  {
   "cell_type": "code",
   "execution_count": 40,
   "id": "7a2da7b7",
   "metadata": {
    "execution": {
     "iopub.execute_input": "2025-03-25T14:43:33.109650Z",
     "iopub.status.busy": "2025-03-25T14:43:33.109295Z",
     "iopub.status.idle": "2025-03-25T14:43:33.113871Z",
     "shell.execute_reply": "2025-03-25T14:43:33.112927Z"
    },
    "papermill": {
     "duration": 0.01752,
     "end_time": "2025-03-25T14:43:33.115470",
     "exception": false,
     "start_time": "2025-03-25T14:43:33.097950",
     "status": "completed"
    },
    "tags": []
   },
   "outputs": [],
   "source": [
    "# Get OneHot encoded feature names\n",
    "ohe = preprocessor.named_transformers_['nom']\n",
    "nominal_feature_names = ohe.get_feature_names_out(nominal_features)\n",
    "all_feature_names = numeric_feature_names + ordinal_feature_names + list(nominal_feature_names)"
   ]
  },
  {
   "cell_type": "code",
   "execution_count": 41,
   "id": "af13b986",
   "metadata": {
    "execution": {
     "iopub.execute_input": "2025-03-25T14:43:33.137763Z",
     "iopub.status.busy": "2025-03-25T14:43:33.137357Z",
     "iopub.status.idle": "2025-03-25T14:43:33.142305Z",
     "shell.execute_reply": "2025-03-25T14:43:33.141113Z"
    },
    "papermill": {
     "duration": 0.017897,
     "end_time": "2025-03-25T14:43:33.143992",
     "exception": false,
     "start_time": "2025-03-25T14:43:33.126095",
     "status": "completed"
    },
    "tags": []
   },
   "outputs": [
    {
     "name": "stdout",
     "output_type": "stream",
     "text": [
      "['Age', 'Sleep Duration', 'Quality of Sleep', 'Heart Rate', 'Daily Steps', 'Systolic BP', 'Diastolic BP', 'BP_Ratio', 'BMI Category', 'Age_Group', 'Gender_Female', 'Gender_Male', 'Occupation_Accountant', 'Occupation_Doctor', 'Occupation_Engineer', 'Occupation_Lawyer', 'Occupation_Manager', 'Occupation_Nurse', 'Occupation_Sales Representative', 'Occupation_Salesperson', 'Occupation_Scientist', 'Occupation_Software Engineer', 'Occupation_Teacher']\n"
     ]
    }
   ],
   "source": [
    "print(all_feature_names)"
   ]
  },
  {
   "cell_type": "code",
   "execution_count": 42,
   "id": "b05107be",
   "metadata": {
    "execution": {
     "iopub.execute_input": "2025-03-25T14:43:33.166717Z",
     "iopub.status.busy": "2025-03-25T14:43:33.166316Z",
     "iopub.status.idle": "2025-03-25T14:43:33.436418Z",
     "shell.execute_reply": "2025-03-25T14:43:33.435371Z"
    },
    "papermill": {
     "duration": 0.283329,
     "end_time": "2025-03-25T14:43:33.438091",
     "exception": false,
     "start_time": "2025-03-25T14:43:33.154762",
     "status": "completed"
    },
    "tags": []
   },
   "outputs": [
    {
     "data": {
      "image/png": "[encoded data removed]",
      "text/plain": [
       "<Figure size 640x480 with 1 Axes>"
      ]
     },
     "metadata": {},
     "output_type": "display_data"
    }
   ],
   "source": [
    "# Plot feature importances\n",
    "importances = best_rf.feature_importances_\n",
    "feat_importances = pd.Series(importances, index=all_feature_names)\n",
    "feat_importances.nlargest(10).plot(kind='barh', title='Top 10 Feature Importances')\n",
    "plt.show()"
   ]
  },
  {
   "cell_type": "code",
   "execution_count": 43,
   "id": "6d0194d9",
   "metadata": {
    "execution": {
     "iopub.execute_input": "2025-03-25T14:43:33.462471Z",
     "iopub.status.busy": "2025-03-25T14:43:33.462133Z",
     "iopub.status.idle": "2025-03-25T14:43:33.516444Z",
     "shell.execute_reply": "2025-03-25T14:43:33.515462Z"
    },
    "papermill": {
     "duration": 0.068771,
     "end_time": "2025-03-25T14:43:33.518313",
     "exception": false,
     "start_time": "2025-03-25T14:43:33.449542",
     "status": "completed"
    },
    "tags": []
   },
   "outputs": [
    {
     "data": {
      "text/plain": [
       "['stress_predictor.pkl']"
      ]
     },
     "execution_count": 43,
     "metadata": {},
     "output_type": "execute_result"
    }
   ],
   "source": [
    "#  Model Saving\n",
    "joblib.dump(preprocessor, 'preprocessor.pkl')\n",
    "joblib.dump(best_rf, 'stress_predictor.pkl')"
   ]
  },
  {
   "cell_type": "code",
   "execution_count": 44,
   "id": "de679fab",
   "metadata": {
    "execution": {
     "iopub.execute_input": "2025-03-25T14:43:33.542047Z",
     "iopub.status.busy": "2025-03-25T14:43:33.541630Z",
     "iopub.status.idle": "2025-03-25T14:43:33.548654Z",
     "shell.execute_reply": "2025-03-25T14:43:33.547675Z"
    },
    "papermill": {
     "duration": 0.020649,
     "end_time": "2025-03-25T14:43:33.550276",
     "exception": false,
     "start_time": "2025-03-25T14:43:33.529627",
     "status": "completed"
    },
    "tags": []
   },
   "outputs": [],
   "source": [
    "# Prediction Function\n",
    "def predict_stress_level():\n",
    "    try:\n",
    "        # Load saved components\n",
    "        preprocessor = joblib.load('preprocessor.pkl')\n",
    "        model = joblib.load('stress_predictor.pkl')\n",
    "        \n",
    "        print(\"Enter the following details:\")\n",
    "        inputs = {\n",
    "            'Gender': input(\"Gender (Male/Female): \"),\n",
    "            'Age': int(input(\"Age: \")),\n",
    "            'Occupation': input(\"Occupation: \"),\n",
    "            'Sleep Duration': float(input(\"Sleep Duration (hours): \")),\n",
    "            'Quality of Sleep': int(input(\"Sleep Quality (1-10): \")),\n",
    "            'BMI Category': input(\"BMI Category (Underweight/Normal/Overweight/Obese): \"),\n",
    "            'Heart Rate': int(input(\"Heart Rate (bpm): \")),\n",
    "            'Daily Steps': int(input(\"Daily Steps: \")),\n",
    "            'Systolic BP': int(input(\"Systolic BP: \")),\n",
    "            'Diastolic BP': int(input(\"Diastolic BP: \"))\n",
    "        }\n",
    "        \n",
    "        # Create DataFrame\n",
    "        input_df = pd.DataFrame([inputs])\n",
    "        \n",
    "        # Calculate derived features\n",
    "        input_df['BP_Ratio'] = input_df['Diastolic BP'] / input_df['Systolic BP']\n",
    "        input_df['Age_Group'] = pd.cut(input_df['Age'],  bins=[18,30,45,60,100],\n",
    "                                labels=['Young','Adult','Mid-Age','Senior'])\n",
    "        \n",
    "        # Preprocess and predict\n",
    "        processed_input = preprocessor.transform(input_df)\n",
    "        prediction = model.predict(processed_input)\n",
    "        \n",
    "        print(f\"\\nPredicted Stress Level: {prediction[0]}\")\n",
    "        \n",
    "    except Exception as e:\n",
    "        print(f\"\\nError occurred: {str(e)}\")\n",
    "        print(\"Please check your input values and try again.\")\n"
   ]
  },
  {
   "cell_type": "code",
   "execution_count": 45,
   "id": "09181c22",
   "metadata": {
    "execution": {
     "iopub.execute_input": "2025-03-25T14:43:33.574455Z",
     "iopub.status.busy": "2025-03-25T14:43:33.574103Z",
     "iopub.status.idle": "2025-03-25T14:43:33.577606Z",
     "shell.execute_reply": "2025-03-25T14:43:33.576794Z"
    },
    "papermill": {
     "duration": 0.01707,
     "end_time": "2025-03-25T14:43:33.579163",
     "exception": false,
     "start_time": "2025-03-25T14:43:33.562093",
     "status": "completed"
    },
    "tags": []
   },
   "outputs": [
    {
     "name": "stdout",
     "output_type": "stream",
     "text": [
      "Enter the following details:\n"
     ]
    }
   ],
   "source": [
    "predict_stress_level()"
   ]
  },
  {
   "cell_type": "code",
   "execution_count": null,
   "id": "63b8e286",
   "metadata": {
    "papermill": {
     "duration": 0.011016,
     "end_time": "2025-03-25T14:43:33.601656",
     "exception": false,
     "start_time": "2025-03-25T14:43:33.590640",
     "status": "completed"
    },
    "tags": []
   },
   "outputs": [],
   "source": []
  }
 ],
 "metadata": {
  "kaggle": {
   "accelerator": "none",
   "dataSources": [
    {
     "datasetId": 3321433,
     "sourceId": 6491929,
     "sourceType": "datasetVersion"
    }
   ],
   "dockerImageVersionId": 30918,
   "isGpuEnabled": false,
   "isInternetEnabled": true,
   "language": "python",
   "sourceType": "notebook"
  },
  "kernelspec": {
   "display_name": "Python 3",
   "language": "python",
   "name": "python3"
  },
  "language_info": {
   "codemirror_mode": {
    "name": "ipython",
    "version": 3
   },
   "file_extension": ".py",
   "mimetype": "text/x-python",
   "name": "python",
   "nbconvert_exporter": "python",
   "pygments_lexer": "ipython3",
   "version": "3.13.2"
  },
  "papermill": {
   "default_parameters": {},
   "duration": 24.36953,
   "end_time": "2025-03-25T14:43:34.433326",
   "environment_variables": {},
   "exception": null,
   "input_path": "__notebook__.ipynb",
   "output_path": "__notebook__.ipynb",
   "parameters": {},
   "start_time": "2025-03-25T14:43:10.063796",
   "version": "2.6.0"
  }
 },
 "nbformat": 4,
 "nbformat_minor": 5
}
